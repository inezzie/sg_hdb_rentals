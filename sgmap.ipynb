{
 "cells": [
  {
   "cell_type": "code",
   "execution_count": 2,
   "metadata": {},
   "outputs": [],
   "source": [
    "import sqlite3\n",
    "import math\n",
    "import folium\n",
    "import pandas as pd\n",
    "import geopandas\n",
    "import plotly.express as px"
   ]
  },
  {
   "cell_type": "code",
   "execution_count": 3,
   "metadata": {},
   "outputs": [
    {
     "data": {
      "text/html": [
       "<div style=\"width:100%;\"><div style=\"position:relative;width:100%;height:0;padding-bottom:60%;\"><span style=\"color:#565656\">Make this Notebook Trusted to load map: File -> Trust Notebook</span><iframe srcdoc=\"&lt;!DOCTYPE html&gt;\n",
       "&lt;html&gt;\n",
       "&lt;head&gt;\n",
       "    \n",
       "    &lt;meta http-equiv=&quot;content-type&quot; content=&quot;text/html; charset=UTF-8&quot; /&gt;\n",
       "    \n",
       "        &lt;script&gt;\n",
       "            L_NO_TOUCH = false;\n",
       "            L_DISABLE_3D = false;\n",
       "        &lt;/script&gt;\n",
       "    \n",
       "    &lt;style&gt;html, body {width: 100%;height: 100%;margin: 0;padding: 0;}&lt;/style&gt;\n",
       "    &lt;style&gt;#map {position:absolute;top:0;bottom:0;right:0;left:0;}&lt;/style&gt;\n",
       "    &lt;script src=&quot;https://cdn.jsdelivr.net/npm/leaflet@1.9.3/dist/leaflet.js&quot;&gt;&lt;/script&gt;\n",
       "    &lt;script src=&quot;https://code.jquery.com/jquery-3.7.1.min.js&quot;&gt;&lt;/script&gt;\n",
       "    &lt;script src=&quot;https://cdn.jsdelivr.net/npm/bootstrap@5.2.2/dist/js/bootstrap.bundle.min.js&quot;&gt;&lt;/script&gt;\n",
       "    &lt;script src=&quot;https://cdnjs.cloudflare.com/ajax/libs/Leaflet.awesome-markers/2.0.2/leaflet.awesome-markers.js&quot;&gt;&lt;/script&gt;\n",
       "    &lt;link rel=&quot;stylesheet&quot; href=&quot;https://cdn.jsdelivr.net/npm/leaflet@1.9.3/dist/leaflet.css&quot;/&gt;\n",
       "    &lt;link rel=&quot;stylesheet&quot; href=&quot;https://cdn.jsdelivr.net/npm/bootstrap@5.2.2/dist/css/bootstrap.min.css&quot;/&gt;\n",
       "    &lt;link rel=&quot;stylesheet&quot; href=&quot;https://netdna.bootstrapcdn.com/bootstrap/3.0.0/css/bootstrap-glyphicons.css&quot;/&gt;\n",
       "    &lt;link rel=&quot;stylesheet&quot; href=&quot;https://cdn.jsdelivr.net/npm/@fortawesome/fontawesome-free@6.2.0/css/all.min.css&quot;/&gt;\n",
       "    &lt;link rel=&quot;stylesheet&quot; href=&quot;https://cdnjs.cloudflare.com/ajax/libs/Leaflet.awesome-markers/2.0.2/leaflet.awesome-markers.css&quot;/&gt;\n",
       "    &lt;link rel=&quot;stylesheet&quot; href=&quot;https://cdn.jsdelivr.net/gh/python-visualization/folium/folium/templates/leaflet.awesome.rotate.min.css&quot;/&gt;\n",
       "    \n",
       "            &lt;meta name=&quot;viewport&quot; content=&quot;width=device-width,\n",
       "                initial-scale=1.0, maximum-scale=1.0, user-scalable=no&quot; /&gt;\n",
       "            &lt;style&gt;\n",
       "                #map_d8b0381892e9eda3be9860cb48dcf718 {\n",
       "                    position: relative;\n",
       "                    width: 100.0%;\n",
       "                    height: 100.0%;\n",
       "                    left: 0.0%;\n",
       "                    top: 0.0%;\n",
       "                }\n",
       "                .leaflet-container { font-size: 1rem; }\n",
       "            &lt;/style&gt;\n",
       "        \n",
       "    \n",
       "                    &lt;style&gt;\n",
       "                        .foliumtooltip {\n",
       "                            \n",
       "                        }\n",
       "                       .foliumtooltip table{\n",
       "                            margin: auto;\n",
       "                        }\n",
       "                        .foliumtooltip tr{\n",
       "                            text-align: left;\n",
       "                        }\n",
       "                        .foliumtooltip th{\n",
       "                            padding: 2px; padding-right: 8px;\n",
       "                        }\n",
       "                    &lt;/style&gt;\n",
       "            \n",
       "&lt;/head&gt;\n",
       "&lt;body&gt;\n",
       "    \n",
       "    \n",
       "            &lt;div class=&quot;folium-map&quot; id=&quot;map_d8b0381892e9eda3be9860cb48dcf718&quot; &gt;&lt;/div&gt;\n",
       "        \n",
       "&lt;/body&gt;\n",
       "&lt;script&gt;\n",
       "    \n",
       "    \n",
       "            var map_d8b0381892e9eda3be9860cb48dcf718 = L.map(\n",
       "                &quot;map_d8b0381892e9eda3be9860cb48dcf718&quot;,\n",
       "                {\n",
       "                    center: [1.338, 103.82],\n",
       "                    crs: L.CRS.EPSG3857,\n",
       "                    zoom: 12,\n",
       "                    zoomControl: false,\n",
       "                    preferCanvas: false,\n",
       "                    scrollWheelZoom: false,\n",
       "                    dragging: false,\n",
       "                }\n",
       "            );\n",
       "\n",
       "            \n",
       "\n",
       "        \n",
       "    \n",
       "            var tile_layer_8fecd9b0d664a951dd752700057926c6 = L.tileLayer(\n",
       "                &quot;https://{s}.basemaps.cartocdn.com/light_all/{z}/{x}/{y}{r}.png&quot;,\n",
       "                {&quot;attribution&quot;: &quot;\\u0026copy; \\u003ca href=\\&quot;https://www.openstreetmap.org/copyright\\&quot;\\u003eOpenStreetMap\\u003c/a\\u003e contributors \\u0026copy; \\u003ca href=\\&quot;https://carto.com/attributions\\&quot;\\u003eCARTO\\u003c/a\\u003e&quot;, &quot;detectRetina&quot;: false, &quot;maxNativeZoom&quot;: 20, &quot;maxZoom&quot;: 20, &quot;minZoom&quot;: 0, &quot;noWrap&quot;: false, &quot;opacity&quot;: 1, &quot;subdomains&quot;: &quot;abcd&quot;, &quot;tms&quot;: false}\n",
       "            );\n",
       "        \n",
       "    \n",
       "            tile_layer_8fecd9b0d664a951dd752700057926c6.addTo(map_d8b0381892e9eda3be9860cb48dcf718);\n",
       "        \n",
       "    \n",
       "        function geo_json_c57081de670cbac2cff5a3f6c7ebf5d3_styler(feature) {\n",
       "            switch(feature.id) {\n",
       "                case &quot;0&quot;: case &quot;26&quot;: \n",
       "                    return {&quot;fillColor&quot;: &quot;yellow&quot;, &quot;radius&quot;: 750};\n",
       "                case &quot;1&quot;: case &quot;3&quot;: case &quot;5&quot;: case &quot;10&quot;: case &quot;11&quot;: case &quot;25&quot;: \n",
       "                    return {&quot;fillColor&quot;: &quot;yellow&quot;, &quot;radius&quot;: 780};\n",
       "                case &quot;2&quot;: case &quot;4&quot;: case &quot;6&quot;: \n",
       "                    return {&quot;fillColor&quot;: &quot;red&quot;, &quot;radius&quot;: 900};\n",
       "                case &quot;7&quot;: \n",
       "                    return {&quot;fillColor&quot;: &quot;red&quot;, &quot;radius&quot;: 960};\n",
       "                case &quot;8&quot;: case &quot;12&quot;: case &quot;15&quot;: case &quot;19&quot;: case &quot;24&quot;: \n",
       "                    return {&quot;fillColor&quot;: &quot;orange&quot;, &quot;radius&quot;: 810};\n",
       "                case &quot;16&quot;: case &quot;18&quot;: \n",
       "                    return {&quot;fillColor&quot;: &quot;red&quot;, &quot;radius&quot;: 870};\n",
       "                default:\n",
       "                    return {&quot;fillColor&quot;: &quot;orange&quot;, &quot;radius&quot;: 840};\n",
       "            }\n",
       "        }\n",
       "        function geo_json_c57081de670cbac2cff5a3f6c7ebf5d3_highlighter(feature) {\n",
       "            switch(feature.id) {\n",
       "                default:\n",
       "                    return {&quot;fillOpacity&quot;: 0.8};\n",
       "            }\n",
       "        }\n",
       "        function geo_json_c57081de670cbac2cff5a3f6c7ebf5d3_pointToLayer(feature, latlng) {\n",
       "            var opts = {&quot;bubblingMouseEvents&quot;: true, &quot;color&quot;: &quot;black&quot;, &quot;dashArray&quot;: null, &quot;dashOffset&quot;: null, &quot;fill&quot;: true, &quot;fillColor&quot;: &quot;green&quot;, &quot;fillOpacity&quot;: 0.3, &quot;fillRule&quot;: &quot;evenodd&quot;, &quot;lineCap&quot;: &quot;round&quot;, &quot;lineJoin&quot;: &quot;round&quot;, &quot;opacity&quot;: 1.0, &quot;radius&quot;: 900, &quot;stroke&quot;: true, &quot;weight&quot;: 0.5};\n",
       "            \n",
       "            let style = geo_json_c57081de670cbac2cff5a3f6c7ebf5d3_styler(feature)\n",
       "            Object.assign(opts, style)\n",
       "            \n",
       "            return new L.circle(latlng, opts)\n",
       "        }\n",
       "\n",
       "        function geo_json_c57081de670cbac2cff5a3f6c7ebf5d3_onEachFeature(feature, layer) {\n",
       "            layer.on({\n",
       "                mouseout: function(e) {\n",
       "                    if(typeof e.target.setStyle === &quot;function&quot;){\n",
       "                            geo_json_c57081de670cbac2cff5a3f6c7ebf5d3.resetStyle(e.target);\n",
       "                    }\n",
       "                },\n",
       "                mouseover: function(e) {\n",
       "                    if(typeof e.target.setStyle === &quot;function&quot;){\n",
       "                        const highlightStyle = geo_json_c57081de670cbac2cff5a3f6c7ebf5d3_highlighter(e.target.feature)\n",
       "                        e.target.setStyle(highlightStyle);\n",
       "                    }\n",
       "                },\n",
       "            });\n",
       "        };\n",
       "        var geo_json_c57081de670cbac2cff5a3f6c7ebf5d3 = L.geoJson(null, {\n",
       "                onEachFeature: geo_json_c57081de670cbac2cff5a3f6c7ebf5d3_onEachFeature,\n",
       "            \n",
       "                style: geo_json_c57081de670cbac2cff5a3f6c7ebf5d3_styler,\n",
       "                pointToLayer: geo_json_c57081de670cbac2cff5a3f6c7ebf5d3_pointToLayer,\n",
       "        });\n",
       "\n",
       "        function geo_json_c57081de670cbac2cff5a3f6c7ebf5d3_add (data) {\n",
       "            geo_json_c57081de670cbac2cff5a3f6c7ebf5d3\n",
       "                .addData(data);\n",
       "        }\n",
       "            geo_json_c57081de670cbac2cff5a3f6c7ebf5d3_add({&quot;bbox&quot;: [103.70734610666084, 1.2819265293556035, 103.95116157221177, 1.4497576690463452], &quot;features&quot;: [{&quot;bbox&quot;: [103.84734551891975, 1.3707080005096115, 103.84734551891975, 1.3707080005096115], &quot;geometry&quot;: {&quot;coordinates&quot;: [103.84734551891975, 1.3707080005096115], &quot;type&quot;: &quot;Point&quot;}, &quot;id&quot;: &quot;0&quot;, &quot;properties&quot;: {&quot;avg_rent&quot;: &quot;$2,497.18&quot;, &quot;avg_rent_1room&quot;: &quot;$0.00&quot;, &quot;avg_rent_2room&quot;: &quot;$1,713.91&quot;, &quot;avg_rent_3room&quot;: &quot;$2,310.53&quot;, &quot;avg_rent_4room&quot;: &quot;$2,310.53&quot;, &quot;avg_rent_5room&quot;: &quot;$3,091.56&quot;, &quot;avg_rent_executive&quot;: &quot;$3,165.79&quot;, &quot;col_group&quot;: 2, &quot;max_rent&quot;: 6500, &quot;min_rent&quot;: 500, &quot;name&quot;: &quot;ANG MO KIO&quot;, &quot;rent_group&quot;: 25}, &quot;type&quot;: &quot;Feature&quot;}, {&quot;bbox&quot;: [103.92685035159687, 1.3293184810455627, 103.92685035159687, 1.3293184810455627], &quot;geometry&quot;: {&quot;coordinates&quot;: [103.92685035159687, 1.3293184810455627], &quot;type&quot;: &quot;Point&quot;}, &quot;id&quot;: &quot;1&quot;, &quot;properties&quot;: {&quot;avg_rent&quot;: &quot;$2,532.38&quot;, &quot;avg_rent_1room&quot;: &quot;$0.00&quot;, &quot;avg_rent_2room&quot;: &quot;$1,734.56&quot;, &quot;avg_rent_3room&quot;: &quot;$2,265.97&quot;, &quot;avg_rent_4room&quot;: &quot;$2,265.97&quot;, &quot;avg_rent_5room&quot;: &quot;$3,000.35&quot;, &quot;avg_rent_executive&quot;: &quot;$3,202.76&quot;, &quot;col_group&quot;: 2, &quot;max_rent&quot;: 5600, &quot;min_rent&quot;: 490, &quot;name&quot;: &quot;BEDOK&quot;, &quot;rent_group&quot;: 26}, &quot;type&quot;: &quot;Feature&quot;}, {&quot;bbox&quot;: [103.84642582418888, 1.3530079817978902, 103.84642582418888, 1.3530079817978902], &quot;geometry&quot;: {&quot;coordinates&quot;: [103.84642582418888, 1.3530079817978902], &quot;type&quot;: &quot;Point&quot;}, &quot;id&quot;: &quot;2&quot;, &quot;properties&quot;: {&quot;avg_rent&quot;: &quot;$2,949.82&quot;, &quot;avg_rent_1room&quot;: &quot;$0.00&quot;, &quot;avg_rent_2room&quot;: &quot;$0.00&quot;, &quot;avg_rent_3room&quot;: &quot;$2,464.13&quot;, &quot;avg_rent_4room&quot;: &quot;$2,464.13&quot;, &quot;avg_rent_5room&quot;: &quot;$3,219.28&quot;, &quot;avg_rent_executive&quot;: &quot;$3,527.64&quot;, &quot;col_group&quot;: 4, &quot;max_rent&quot;: 5800, &quot;min_rent&quot;: 600, &quot;name&quot;: &quot;BISHAN&quot;, &quot;rent_group&quot;: 30}, &quot;type&quot;: &quot;Feature&quot;}, {&quot;bbox&quot;: [103.74885206950466, 1.3530198725959233, 103.74885206950466, 1.3530198725959233], &quot;geometry&quot;: {&quot;coordinates&quot;: [103.74885206950466, 1.3530198725959233], &quot;type&quot;: &quot;Point&quot;}, &quot;id&quot;: &quot;3&quot;, &quot;properties&quot;: {&quot;avg_rent&quot;: &quot;$2,548.89&quot;, &quot;avg_rent_1room&quot;: &quot;$0.00&quot;, &quot;avg_rent_2room&quot;: &quot;$2,324.38&quot;, &quot;avg_rent_3room&quot;: &quot;$2,209.65&quot;, &quot;avg_rent_4room&quot;: &quot;$2,209.65&quot;, &quot;avg_rent_5room&quot;: &quot;$2,989.16&quot;, &quot;avg_rent_executive&quot;: &quot;$3,071.05&quot;, &quot;col_group&quot;: 2, &quot;max_rent&quot;: 6100, &quot;min_rent&quot;: 480, &quot;name&quot;: &quot;BUKIT BATOK&quot;, &quot;rent_group&quot;: 26}, &quot;type&quot;: &quot;Feature&quot;}, {&quot;bbox&quot;: [103.82207713714243, 1.2819265293556035, 103.82207713714243, 1.2819265293556035], &quot;geometry&quot;: {&quot;coordinates&quot;: [103.82207713714243, 1.2819265293556035], &quot;type&quot;: &quot;Point&quot;}, &quot;id&quot;: &quot;4&quot;, &quot;properties&quot;: {&quot;avg_rent&quot;: &quot;$2,959.96&quot;, &quot;avg_rent_1room&quot;: &quot;$1,485.63&quot;, &quot;avg_rent_2room&quot;: &quot;$1,998.89&quot;, &quot;avg_rent_3room&quot;: &quot;$2,545.05&quot;, &quot;avg_rent_4room&quot;: &quot;$2,545.05&quot;, &quot;avg_rent_5room&quot;: &quot;$3,546.01&quot;, &quot;avg_rent_executive&quot;: &quot;$2,700.00&quot;, &quot;col_group&quot;: 4, &quot;max_rent&quot;: 6300, &quot;min_rent&quot;: 500, &quot;name&quot;: &quot;BUKIT MERAH&quot;, &quot;rent_group&quot;: 30}, &quot;type&quot;: &quot;Feature&quot;}, {&quot;bbox&quot;: [103.76769540763158, 1.3817332379096263, 103.76769540763158, 1.3817332379096263], &quot;geometry&quot;: {&quot;coordinates&quot;: [103.76769540763158, 1.3817332379096263], &quot;type&quot;: &quot;Point&quot;}, &quot;id&quot;: &quot;5&quot;, &quot;properties&quot;: {&quot;avg_rent&quot;: &quot;$2,573.76&quot;, &quot;avg_rent_1room&quot;: &quot;$0.00&quot;, &quot;avg_rent_2room&quot;: &quot;$1,765.71&quot;, &quot;avg_rent_3room&quot;: &quot;$2,124.60&quot;, &quot;avg_rent_4room&quot;: &quot;$2,124.60&quot;, &quot;avg_rent_5room&quot;: &quot;$2,744.75&quot;, &quot;avg_rent_executive&quot;: &quot;$2,912.20&quot;, &quot;col_group&quot;: 2, &quot;max_rent&quot;: 4600, &quot;min_rent&quot;: 680, &quot;name&quot;: &quot;BUKIT PANJANG&quot;, &quot;rent_group&quot;: 26}, &quot;type&quot;: &quot;Feature&quot;}, {&quot;bbox&quot;: [103.78258358596707, 1.3335588129098892, 103.78258358596707, 1.3335588129098892], &quot;geometry&quot;: {&quot;coordinates&quot;: [103.78258358596707, 1.3335588129098892], &quot;type&quot;: &quot;Point&quot;}, &quot;id&quot;: &quot;6&quot;, &quot;properties&quot;: {&quot;avg_rent&quot;: &quot;$2,990.83&quot;, &quot;avg_rent_1room&quot;: &quot;$0.00&quot;, &quot;avg_rent_2room&quot;: &quot;$1,225.00&quot;, &quot;avg_rent_3room&quot;: &quot;$2,589.39&quot;, &quot;avg_rent_4room&quot;: &quot;$2,589.39&quot;, &quot;avg_rent_5room&quot;: &quot;$3,367.19&quot;, &quot;avg_rent_executive&quot;: &quot;$3,616.18&quot;, &quot;col_group&quot;: 4, &quot;max_rent&quot;: 5500, &quot;min_rent&quot;: 700, &quot;name&quot;: &quot;BUKIT TIMAH&quot;, &quot;rent_group&quot;: 30}, &quot;type&quot;: &quot;Feature&quot;}, {&quot;bbox&quot;: [103.84846889458942, 1.2933811497305576, 103.84846889458942, 1.2933811497305576], &quot;geometry&quot;: {&quot;coordinates&quot;: [103.84846889458942, 1.2933811497305576], &quot;type&quot;: &quot;Point&quot;}, &quot;id&quot;: &quot;7&quot;, &quot;properties&quot;: {&quot;avg_rent&quot;: &quot;$3,117.33&quot;, &quot;avg_rent_1room&quot;: &quot;$0.00&quot;, &quot;avg_rent_2room&quot;: &quot;$1,978.14&quot;, &quot;avg_rent_3room&quot;: &quot;$2,694.75&quot;, &quot;avg_rent_4room&quot;: &quot;$2,694.75&quot;, &quot;avg_rent_5room&quot;: &quot;$4,400.01&quot;, &quot;avg_rent_executive&quot;: &quot;$3,100.00&quot;, &quot;col_group&quot;: 4, &quot;max_rent&quot;: 7600, &quot;min_rent&quot;: 350, &quot;name&quot;: &quot;CENTRAL&quot;, &quot;rent_group&quot;: 32}, &quot;type&quot;: &quot;Feature&quot;}, {&quot;bbox&quot;: [103.74553600074358, 1.3864199683377394, 103.74553600074358, 1.3864199683377394], &quot;geometry&quot;: {&quot;coordinates&quot;: [103.74553600074358, 1.3864199683377394], &quot;type&quot;: &quot;Point&quot;}, &quot;id&quot;: &quot;8&quot;, &quot;properties&quot;: {&quot;avg_rent&quot;: &quot;$2,613.08&quot;, &quot;avg_rent_1room&quot;: &quot;$1,700.00&quot;, &quot;avg_rent_2room&quot;: &quot;$1,723.68&quot;, &quot;avg_rent_3room&quot;: &quot;$2,228.17&quot;, &quot;avg_rent_4room&quot;: &quot;$2,228.17&quot;, &quot;avg_rent_5room&quot;: &quot;$2,690.68&quot;, &quot;avg_rent_executive&quot;: &quot;$2,894.00&quot;, &quot;col_group&quot;: 3, &quot;max_rent&quot;: 6600, &quot;min_rent&quot;: 500, &quot;name&quot;: &quot;CHOA CHU KANG&quot;, &quot;rent_group&quot;: 27}, &quot;type&quot;: &quot;Feature&quot;}, {&quot;bbox&quot;: [103.76616080581029, 1.3138163397460683, 103.76616080581029, 1.3138163397460683], &quot;geometry&quot;: {&quot;coordinates&quot;: [103.76616080581029, 1.3138163397460683], &quot;type&quot;: &quot;Point&quot;}, &quot;id&quot;: &quot;9&quot;, &quot;properties&quot;: {&quot;avg_rent&quot;: &quot;$2,766.58&quot;, &quot;avg_rent_1room&quot;: &quot;$0.00&quot;, &quot;avg_rent_2room&quot;: &quot;$2,142.11&quot;, &quot;avg_rent_3room&quot;: &quot;$2,469.17&quot;, &quot;avg_rent_4room&quot;: &quot;$2,469.17&quot;, &quot;avg_rent_5room&quot;: &quot;$3,399.21&quot;, &quot;avg_rent_executive&quot;: &quot;$3,552.83&quot;, &quot;col_group&quot;: 3, &quot;max_rent&quot;: 6000, &quot;min_rent&quot;: 450, &quot;name&quot;: &quot;CLEMENTI&quot;, &quot;rent_group&quot;: 28}, &quot;type&quot;: &quot;Feature&quot;}, {&quot;bbox&quot;: [103.89239036049871, 1.3216225248582947, 103.89239036049871, 1.3216225248582947], &quot;geometry&quot;: {&quot;coordinates&quot;: [103.89239036049871, 1.3216225248582947], &quot;type&quot;: &quot;Point&quot;}, &quot;id&quot;: &quot;10&quot;, &quot;properties&quot;: {&quot;avg_rent&quot;: &quot;$2,572.30&quot;, &quot;avg_rent_1room&quot;: &quot;$0.00&quot;, &quot;avg_rent_2room&quot;: &quot;$1,578.15&quot;, &quot;avg_rent_3room&quot;: &quot;$2,294.22&quot;, &quot;avg_rent_4room&quot;: &quot;$2,294.22&quot;, &quot;avg_rent_5room&quot;: &quot;$3,211.88&quot;, &quot;avg_rent_executive&quot;: &quot;$3,242.26&quot;, &quot;col_group&quot;: 2, &quot;max_rent&quot;: 7400, &quot;min_rent&quot;: 500, &quot;name&quot;: &quot;GEYLANG&quot;, &quot;rent_group&quot;: 26}, &quot;type&quot;: &quot;Feature&quot;}, {&quot;bbox&quot;: [103.88843125485677, 1.3708852762124364, 103.88843125485677, 1.3708852762124364], &quot;geometry&quot;: {&quot;coordinates&quot;: [103.88843125485677, 1.3708852762124364], &quot;type&quot;: &quot;Point&quot;}, &quot;id&quot;: &quot;11&quot;, &quot;properties&quot;: {&quot;avg_rent&quot;: &quot;$2,586.62&quot;, &quot;avg_rent_1room&quot;: &quot;$0.00&quot;, &quot;avg_rent_2room&quot;: &quot;$2,123.53&quot;, &quot;avg_rent_3room&quot;: &quot;$2,207.90&quot;, &quot;avg_rent_4room&quot;: &quot;$2,207.90&quot;, &quot;avg_rent_5room&quot;: &quot;$2,813.29&quot;, &quot;avg_rent_executive&quot;: &quot;$3,057.12&quot;, &quot;col_group&quot;: 2, &quot;max_rent&quot;: 5600, &quot;min_rent&quot;: 500, &quot;name&quot;: &quot;HOUGANG&quot;, &quot;rent_group&quot;: 26}, &quot;type&quot;: &quot;Feature&quot;}, {&quot;bbox&quot;: [103.73948271369451, 1.3390933752805705, 103.73948271369451, 1.3390933752805705], &quot;geometry&quot;: {&quot;coordinates&quot;: [103.73948271369451, 1.3390933752805705], &quot;type&quot;: &quot;Point&quot;}, &quot;id&quot;: &quot;12&quot;, &quot;properties&quot;: {&quot;avg_rent&quot;: &quot;$2,687.19&quot;, &quot;avg_rent_1room&quot;: &quot;$0.00&quot;, &quot;avg_rent_2room&quot;: &quot;$1,735.71&quot;, &quot;avg_rent_3room&quot;: &quot;$2,257.47&quot;, &quot;avg_rent_4room&quot;: &quot;$2,257.47&quot;, &quot;avg_rent_5room&quot;: &quot;$3,069.70&quot;, &quot;avg_rent_executive&quot;: &quot;$3,264.11&quot;, &quot;col_group&quot;: 3, &quot;max_rent&quot;: 6150, &quot;min_rent&quot;: 600, &quot;name&quot;: &quot;JURONG EAST&quot;, &quot;rent_group&quot;: 27}, &quot;type&quot;: &quot;Feature&quot;}, {&quot;bbox&quot;: [103.70734610666084, 1.343524514426928, 103.70734610666084, 1.343524514426928], &quot;geometry&quot;: {&quot;coordinates&quot;: [103.70734610666084, 1.343524514426928], &quot;type&quot;: &quot;Point&quot;}, &quot;id&quot;: &quot;13&quot;, &quot;properties&quot;: {&quot;avg_rent&quot;: &quot;$2,731.62&quot;, &quot;avg_rent_1room&quot;: &quot;$0.00&quot;, &quot;avg_rent_2room&quot;: &quot;$1,914.63&quot;, &quot;avg_rent_3room&quot;: &quot;$2,218.26&quot;, &quot;avg_rent_4room&quot;: &quot;$2,218.26&quot;, &quot;avg_rent_5room&quot;: &quot;$2,920.56&quot;, &quot;avg_rent_executive&quot;: &quot;$3,030.05&quot;, &quot;col_group&quot;: 3, &quot;max_rent&quot;: 6050, &quot;min_rent&quot;: 400, &quot;name&quot;: &quot;JURONG WEST&quot;, &quot;rent_group&quot;: 28}, &quot;type&quot;: &quot;Feature&quot;}, {&quot;bbox&quot;: [103.8607957085125, 1.319088898751952, 103.8607957085125, 1.319088898751952], &quot;geometry&quot;: {&quot;coordinates&quot;: [103.8607957085125, 1.319088898751952], &quot;type&quot;: &quot;Point&quot;}, &quot;id&quot;: &quot;14&quot;, &quot;properties&quot;: {&quot;avg_rent&quot;: &quot;$2,760.71&quot;, &quot;avg_rent_1room&quot;: &quot;$0.00&quot;, &quot;avg_rent_2room&quot;: &quot;$1,884.50&quot;, &quot;avg_rent_3room&quot;: &quot;$2,428.43&quot;, &quot;avg_rent_4room&quot;: &quot;$2,428.43&quot;, &quot;avg_rent_5room&quot;: &quot;$3,317.48&quot;, &quot;avg_rent_executive&quot;: &quot;$3,367.00&quot;, &quot;col_group&quot;: 3, &quot;max_rent&quot;: 6500, &quot;min_rent&quot;: 500, &quot;name&quot;: &quot;KALLANG/WHAMPOA&quot;, &quot;rent_group&quot;: 28}, &quot;type&quot;: &quot;Feature&quot;}, {&quot;bbox&quot;: [103.91311204432793, 1.304124783786063, 103.91311204432793, 1.304124783786063], &quot;geometry&quot;: {&quot;coordinates&quot;: [103.91311204432793, 1.304124783786063], &quot;type&quot;: &quot;Point&quot;}, &quot;id&quot;: &quot;15&quot;, &quot;properties&quot;: {&quot;avg_rent&quot;: &quot;$2,656.27&quot;, &quot;avg_rent_1room&quot;: &quot;$0.00&quot;, &quot;avg_rent_2room&quot;: &quot;$1,400.00&quot;, &quot;avg_rent_3room&quot;: &quot;$2,427.02&quot;, &quot;avg_rent_4room&quot;: &quot;$2,427.02&quot;, &quot;avg_rent_5room&quot;: &quot;$3,394.13&quot;, &quot;avg_rent_executive&quot;: &quot;$0.00&quot;, &quot;col_group&quot;: 3, &quot;max_rent&quot;: 5500, &quot;min_rent&quot;: 800, &quot;name&quot;: &quot;MARINE PARADE&quot;, &quot;rent_group&quot;: 27}, &quot;type&quot;: &quot;Feature&quot;}, {&quot;bbox&quot;: [103.95116157221177, 1.3721104623701454, 103.95116157221177, 1.3721104623701454], &quot;geometry&quot;: {&quot;coordinates&quot;: [103.95116157221177, 1.3721104623701454], &quot;type&quot;: &quot;Point&quot;}, &quot;id&quot;: &quot;16&quot;, &quot;properties&quot;: {&quot;avg_rent&quot;: &quot;$2,805.02&quot;, &quot;avg_rent_1room&quot;: &quot;$1,500.00&quot;, &quot;avg_rent_2room&quot;: &quot;$1,902.08&quot;, &quot;avg_rent_3room&quot;: &quot;$2,287.34&quot;, &quot;avg_rent_4room&quot;: &quot;$2,287.34&quot;, &quot;avg_rent_5room&quot;: &quot;$2,829.31&quot;, &quot;avg_rent_executive&quot;: &quot;$3,041.87&quot;, &quot;col_group&quot;: 4, &quot;max_rent&quot;: 5150, &quot;min_rent&quot;: 750, &quot;name&quot;: &quot;PASIR RIS&quot;, &quot;rent_group&quot;: 29}, &quot;type&quot;: &quot;Feature&quot;}, {&quot;bbox&quot;: [103.90640333204882, 1.4019980528805551, 103.90640333204882, 1.4019980528805551], &quot;geometry&quot;: {&quot;coordinates&quot;: [103.90640333204882, 1.4019980528805551], &quot;type&quot;: &quot;Point&quot;}, &quot;id&quot;: &quot;17&quot;, &quot;properties&quot;: {&quot;avg_rent&quot;: &quot;$2,750.35&quot;, &quot;avg_rent_1room&quot;: &quot;$0.00&quot;, &quot;avg_rent_2room&quot;: &quot;$2,093.68&quot;, &quot;avg_rent_3room&quot;: &quot;$2,572.31&quot;, &quot;avg_rent_4room&quot;: &quot;$2,572.31&quot;, &quot;avg_rent_5room&quot;: &quot;$2,790.85&quot;, &quot;avg_rent_executive&quot;: &quot;$2,927.15&quot;, &quot;col_group&quot;: 3, &quot;max_rent&quot;: 4500, &quot;min_rent&quot;: 300, &quot;name&quot;: &quot;PUNGGOL&quot;, &quot;rent_group&quot;: 28}, &quot;type&quot;: &quot;Feature&quot;}, {&quot;bbox&quot;: [103.79800138599616, 1.3012977322670434, 103.79800138599616, 1.3012977322670434], &quot;geometry&quot;: {&quot;coordinates&quot;: [103.79800138599616, 1.3012977322670434], &quot;type&quot;: &quot;Point&quot;}, &quot;id&quot;: &quot;18&quot;, &quot;properties&quot;: {&quot;avg_rent&quot;: &quot;$2,885.74&quot;, &quot;avg_rent_1room&quot;: &quot;$0.00&quot;, &quot;avg_rent_2room&quot;: &quot;$1,907.16&quot;, &quot;avg_rent_3room&quot;: &quot;$2,536.83&quot;, &quot;avg_rent_4room&quot;: &quot;$2,536.83&quot;, &quot;avg_rent_5room&quot;: &quot;$3,679.36&quot;, &quot;avg_rent_executive&quot;: &quot;$3,544.12&quot;, &quot;col_group&quot;: 4, &quot;max_rent&quot;: 6800, &quot;min_rent&quot;: 500, &quot;name&quot;: &quot;QUEENSTOWN&quot;, &quot;rent_group&quot;: 29}, &quot;type&quot;: &quot;Feature&quot;}, {&quot;bbox&quot;: [103.82176678873219, 1.4497576690463452, 103.82176678873219, 1.4497576690463452], &quot;geometry&quot;: {&quot;coordinates&quot;: [103.82176678873219, 1.4497576690463452], &quot;type&quot;: &quot;Point&quot;}, &quot;id&quot;: &quot;19&quot;, &quot;properties&quot;: {&quot;avg_rent&quot;: &quot;$2,630.74&quot;, &quot;avg_rent_1room&quot;: &quot;$0.00&quot;, &quot;avg_rent_2room&quot;: &quot;$2,068.46&quot;, &quot;avg_rent_3room&quot;: &quot;$2,657.79&quot;, &quot;avg_rent_4room&quot;: &quot;$2,657.79&quot;, &quot;avg_rent_5room&quot;: &quot;$2,664.45&quot;, &quot;avg_rent_executive&quot;: &quot;$2,852.68&quot;, &quot;col_group&quot;: 3, &quot;max_rent&quot;: 4500, &quot;min_rent&quot;: 400, &quot;name&quot;: &quot;SEMBAWANG&quot;, &quot;rent_group&quot;: 27}, &quot;type&quot;: &quot;Feature&quot;}, {&quot;bbox&quot;: [103.89313653029198, 1.3904063633991626, 103.89313653029198, 1.3904063633991626], &quot;geometry&quot;: {&quot;coordinates&quot;: [103.89313653029198, 1.3904063633991626], &quot;type&quot;: &quot;Point&quot;}, &quot;id&quot;: &quot;20&quot;, &quot;properties&quot;: {&quot;avg_rent&quot;: &quot;$2,727.43&quot;, &quot;avg_rent_1room&quot;: &quot;$0.00&quot;, &quot;avg_rent_2room&quot;: &quot;$1,999.29&quot;, &quot;avg_rent_3room&quot;: &quot;$2,508.64&quot;, &quot;avg_rent_4room&quot;: &quot;$2,508.64&quot;, &quot;avg_rent_5room&quot;: &quot;$2,784.35&quot;, &quot;avg_rent_executive&quot;: &quot;$2,877.45&quot;, &quot;col_group&quot;: 3, &quot;max_rent&quot;: 4800, &quot;min_rent&quot;: 500, &quot;name&quot;: &quot;SENGKANG&quot;, &quot;rent_group&quot;: 28}, &quot;type&quot;: &quot;Feature&quot;}, {&quot;bbox&quot;: [103.87236635976635, 1.3615443714401785, 103.87236635976635, 1.3615443714401785], &quot;geometry&quot;: {&quot;coordinates&quot;: [103.87236635976635, 1.3615443714401785], &quot;type&quot;: &quot;Point&quot;}, &quot;id&quot;: &quot;21&quot;, &quot;properties&quot;: {&quot;avg_rent&quot;: &quot;$2,723.51&quot;, &quot;avg_rent_1room&quot;: &quot;$0.00&quot;, &quot;avg_rent_2room&quot;: &quot;$1,716.67&quot;, &quot;avg_rent_3room&quot;: &quot;$2,341.60&quot;, &quot;avg_rent_4room&quot;: &quot;$2,341.60&quot;, &quot;avg_rent_5room&quot;: &quot;$2,988.55&quot;, &quot;avg_rent_executive&quot;: &quot;$3,181.40&quot;, &quot;col_group&quot;: 3, &quot;max_rent&quot;: 5000, &quot;min_rent&quot;: 750, &quot;name&quot;: &quot;SERANGOON&quot;, &quot;rent_group&quot;: 28}, &quot;type&quot;: &quot;Feature&quot;}, {&quot;bbox&quot;: [103.94689873486166, 1.3536952292541757, 103.94689873486166, 1.3536952292541757], &quot;geometry&quot;: {&quot;coordinates&quot;: [103.94689873486166, 1.3536952292541757], &quot;type&quot;: &quot;Point&quot;}, &quot;id&quot;: &quot;22&quot;, &quot;properties&quot;: {&quot;avg_rent&quot;: &quot;$2,728.39&quot;, &quot;avg_rent_1room&quot;: &quot;$0.00&quot;, &quot;avg_rent_2room&quot;: &quot;$2,030.95&quot;, &quot;avg_rent_3room&quot;: &quot;$2,334.93&quot;, &quot;avg_rent_4room&quot;: &quot;$2,334.93&quot;, &quot;avg_rent_5room&quot;: &quot;$2,990.76&quot;, &quot;avg_rent_executive&quot;: &quot;$3,194.96&quot;, &quot;col_group&quot;: 3, &quot;max_rent&quot;: 6550, &quot;min_rent&quot;: 600, &quot;name&quot;: &quot;TAMPINES&quot;, &quot;rent_group&quot;: 28}, &quot;type&quot;: &quot;Feature&quot;}, {&quot;bbox&quot;: [103.73560054031401, 1.355739077878665, 103.73560054031401, 1.355739077878665], &quot;geometry&quot;: {&quot;coordinates&quot;: [103.73560054031401, 1.355739077878665], &quot;type&quot;: &quot;Point&quot;}, &quot;id&quot;: &quot;23&quot;, &quot;properties&quot;: {&quot;avg_rent&quot;: &quot;$2,800.00&quot;, &quot;avg_rent_1room&quot;: &quot;$0.00&quot;, &quot;avg_rent_2room&quot;: &quot;$2,200.00&quot;, &quot;avg_rent_3room&quot;: &quot;$0.00&quot;, &quot;avg_rent_4room&quot;: &quot;$0.00&quot;, &quot;avg_rent_5room&quot;: &quot;$3,400.00&quot;, &quot;avg_rent_executive&quot;: &quot;$0.00&quot;, &quot;col_group&quot;: 3, &quot;max_rent&quot;: 3400, &quot;min_rent&quot;: 2200, &quot;name&quot;: &quot;TENGAH&quot;, &quot;rent_group&quot;: 28}, &quot;type&quot;: &quot;Feature&quot;}, {&quot;bbox&quot;: [103.85979142975093, 1.3362334706504244, 103.85979142975093, 1.3362334706504244], &quot;geometry&quot;: {&quot;coordinates&quot;: [103.85979142975093, 1.3362334706504244], &quot;type&quot;: &quot;Point&quot;}, &quot;id&quot;: &quot;24&quot;, &quot;properties&quot;: {&quot;avg_rent&quot;: &quot;$2,639.91&quot;, &quot;avg_rent_1room&quot;: &quot;$0.00&quot;, &quot;avg_rent_2room&quot;: &quot;$1,765.50&quot;, &quot;avg_rent_3room&quot;: &quot;$2,353.13&quot;, &quot;avg_rent_4room&quot;: &quot;$2,353.13&quot;, &quot;avg_rent_5room&quot;: &quot;$3,301.95&quot;, &quot;avg_rent_executive&quot;: &quot;$3,208.65&quot;, &quot;col_group&quot;: 3, &quot;max_rent&quot;: 6000, &quot;min_rent&quot;: 500, &quot;name&quot;: &quot;TOA PAYOH&quot;, &quot;rent_group&quot;: 27}, &quot;type&quot;: &quot;Feature&quot;}, {&quot;bbox&quot;: [103.79074745905392, 1.438002695898516, 103.79074745905392, 1.438002695898516], &quot;geometry&quot;: {&quot;coordinates&quot;: [103.79074745905392, 1.438002695898516], &quot;type&quot;: &quot;Point&quot;}, &quot;id&quot;: &quot;25&quot;, &quot;properties&quot;: {&quot;avg_rent&quot;: &quot;$2,549.48&quot;, &quot;avg_rent_1room&quot;: &quot;$0.00&quot;, &quot;avg_rent_2room&quot;: &quot;$1,873.06&quot;, &quot;avg_rent_3room&quot;: &quot;$2,097.88&quot;, &quot;avg_rent_4room&quot;: &quot;$2,097.88&quot;, &quot;avg_rent_5room&quot;: &quot;$2,701.33&quot;, &quot;avg_rent_executive&quot;: &quot;$2,848.97&quot;, &quot;col_group&quot;: 2, &quot;max_rent&quot;: 5250, &quot;min_rent&quot;: 400, &quot;name&quot;: &quot;WOODLANDS&quot;, &quot;rent_group&quot;: 26}, &quot;type&quot;: &quot;Feature&quot;}, {&quot;bbox&quot;: [103.83838186239777, 1.4260066850333128, 103.83838186239777, 1.4260066850333128], &quot;geometry&quot;: {&quot;coordinates&quot;: [103.83838186239777, 1.4260066850333128], &quot;type&quot;: &quot;Point&quot;}, &quot;id&quot;: &quot;26&quot;, &quot;properties&quot;: {&quot;avg_rent&quot;: &quot;$2,480.54&quot;, &quot;avg_rent_1room&quot;: &quot;$0.00&quot;, &quot;avg_rent_2room&quot;: &quot;$2,028.49&quot;, &quot;avg_rent_3room&quot;: &quot;$2,206.24&quot;, &quot;avg_rent_4room&quot;: &quot;$2,206.24&quot;, &quot;avg_rent_5room&quot;: &quot;$2,756.63&quot;, &quot;avg_rent_executive&quot;: &quot;$2,921.57&quot;, &quot;col_group&quot;: 2, &quot;max_rent&quot;: 5500, &quot;min_rent&quot;: 500, &quot;name&quot;: &quot;YISHUN&quot;, &quot;rent_group&quot;: 25}, &quot;type&quot;: &quot;Feature&quot;}], &quot;type&quot;: &quot;FeatureCollection&quot;});\n",
       "\n",
       "        \n",
       "    \n",
       "    geo_json_c57081de670cbac2cff5a3f6c7ebf5d3.bindTooltip(\n",
       "    function(layer){\n",
       "    let div = L.DomUtil.create(&#x27;div&#x27;);\n",
       "    \n",
       "    let handleObject = feature=&gt;typeof(feature)==&#x27;object&#x27; ? JSON.stringify(feature) : feature;\n",
       "    let fields = [&quot;name&quot;, &quot;avg_rent&quot;, &quot;avg_rent_1room&quot;, &quot;avg_rent_2room&quot;, &quot;avg_rent_3room&quot;, &quot;avg_rent_4room&quot;, &quot;avg_rent_5room&quot;, &quot;avg_rent_executive&quot;];\n",
       "    let aliases = [&quot;Town:&quot;, &quot;Avg. Monthly Rent (Overall):&quot;, &quot;Avg. Monthly Rent (1-Room):&quot;, &quot;Avg. Monthly Rent (2-Room):&quot;, &quot;Avg. Monthly Rent (3-Room):&quot;, &quot;Avg. Monthly Rent (4-Room):&quot;, &quot;Avg. Monthly Rent (5-Room):&quot;, &quot;Avg. Monthly Rent (Executive):&quot;];\n",
       "    let table = &#x27;&lt;table&gt;&#x27; +\n",
       "        String(\n",
       "        fields.map(\n",
       "        (v,i)=&gt;\n",
       "        `&lt;tr&gt;\n",
       "            &lt;th&gt;${aliases[i]}&lt;/th&gt;\n",
       "            \n",
       "            &lt;td&gt;${handleObject(layer.feature.properties[v])}&lt;/td&gt;\n",
       "        &lt;/tr&gt;`).join(&#x27;&#x27;))\n",
       "    +&#x27;&lt;/table&gt;&#x27;;\n",
       "    div.innerHTML=table;\n",
       "    \n",
       "    return div\n",
       "    }\n",
       "    ,{&quot;className&quot;: &quot;foliumtooltip&quot;, &quot;sticky&quot;: true});\n",
       "                     \n",
       "    \n",
       "            geo_json_c57081de670cbac2cff5a3f6c7ebf5d3.addTo(map_d8b0381892e9eda3be9860cb48dcf718);\n",
       "        \n",
       "&lt;/script&gt;\n",
       "&lt;/html&gt;\" style=\"position:absolute;width:100%;height:100%;left:0;top:0;border:none !important;\" allowfullscreen webkitallowfullscreen mozallowfullscreen></iframe></div></div>"
      ],
      "text/plain": [
       "<folium.folium.Map at 0x13ffc21e0>"
      ]
     },
     "execution_count": 3,
     "metadata": {},
     "output_type": "execute_result"
    }
   ],
   "source": [
    "# Extract data for overall average rental prices, creating 'heatmap' style groupings and draw results on generated map\n",
    "center = [1.3380, 103.8200]\n",
    "my_map = folium.Map(\n",
    "    tiles = 'Cartodb Positron',\n",
    "    location = center,\n",
    "    zoom_start = 12,\n",
    "    zoom_control=False,\n",
    "    scrollWheelZoom=False,\n",
    "    dragging=False\n",
    "    )\n",
    "\n",
    "gdf = geopandas.read_file('townsg.json')\n",
    "rent_group = []\n",
    "col_group = []\n",
    "for v in gdf['avg_rent']:\n",
    "    rent_group.append(math.ceil(v/100))\n",
    "    if v <= 2400.00: col_group.append(1)\n",
    "    if v > 2400.00 and v <= 2600.00: col_group.append(2)\n",
    "    if v > 2600.00 and v <= 2800.00: col_group.append(3)\n",
    "    if v > 2800.00: col_group.append(4)\n",
    "\n",
    "gdf['rent_group'] = rent_group\n",
    "gdf['col_group'] = col_group\n",
    "\n",
    "gdf['avg_rent'] = gdf['avg_rent'].apply(lambda x: '${:,.2f}'.format(x))\n",
    "gdf['avg_rent_1room'] = gdf['avg_rent_1room'].apply(lambda x: '${:,.2f}'.format(x))\n",
    "gdf['avg_rent_2room'] = gdf['avg_rent_2room'].apply(lambda x: '${:,.2f}'.format(x))\n",
    "gdf['avg_rent_3room'] = gdf['avg_rent_3room'].apply(lambda x: '${:,.2f}'.format(x))\n",
    "gdf['avg_rent_4room'] = gdf['avg_rent_4room'].apply(lambda x: '${:,.2f}'.format(x))\n",
    "gdf['avg_rent_5room'] = gdf['avg_rent_5room'].apply(lambda x: '${:,.2f}'.format(x))\n",
    "gdf['avg_rent_executive'] = gdf['avg_rent_executive'].apply(lambda x: '${:,.2f}'.format(x))\n",
    "\n",
    "colors = ['black', 'green', 'yellow', 'orange', 'red']\n",
    "\n",
    "folium.GeoJson(\n",
    "    gdf,\n",
    "    name='Avg. HDB Rental Cost',\n",
    "    marker=folium.Circle(radius=900, fill_color='green', color='black', weight=0.5, fill_opacity=0.3),\n",
    "    tooltip=folium.GeoJsonTooltip( \n",
    "        fields=[\n",
    "            'name',\n",
    "            'avg_rent',\n",
    "            'avg_rent_1room',\n",
    "            'avg_rent_2room',\n",
    "            'avg_rent_3room',\n",
    "            'avg_rent_4room',\n",
    "            'avg_rent_5room',\n",
    "            'avg_rent_executive'\n",
    "            ],\n",
    "        aliases=[\n",
    "            'Town:',\n",
    "            'Avg. Monthly Rent (Overall):',\n",
    "            'Avg. Monthly Rent (1-Room):',\n",
    "            'Avg. Monthly Rent (2-Room):',\n",
    "            'Avg. Monthly Rent (3-Room):',\n",
    "            'Avg. Monthly Rent (4-Room):',\n",
    "            'Avg. Monthly Rent (5-Room):',\n",
    "            'Avg. Monthly Rent (Executive):'\n",
    "            ]\n",
    "        ),\n",
    "    style_function=lambda x: {\n",
    "        'fillColor': colors[x['properties']['col_group']],\n",
    "        'radius': (x['properties']['rent_group'])*30,\n",
    "        },\n",
    "    highlight_function=lambda x: {'fillOpacity': 0.8}\n",
    ").add_to(my_map)\n",
    "\n",
    "my_map"
   ]
  },
  {
   "cell_type": "markdown",
   "metadata": {},
   "source": [
    "From the map above, we can see that the overall average monthly rent for HDB apartments are expectedly highest in towns closest to Singapore's CBD area or in known affluent neighbourhoods such as Bukit Timah, Bukit Merah and Queenstown. However, we do also see higher rentals outside of the central zone such as Bishan and Pasir Ris. Even in areas furthest from the center such as Jurong West, Choa Chu Kang and Punggol are seeing competing rental prices to the most expensive neighbourhoods."
   ]
  },
  {
   "cell_type": "code",
   "execution_count": 4,
   "metadata": {},
   "outputs": [],
   "source": [
    "# Extract data from SQLite to calculate average monthly rental units and prices\n",
    "conn = sqlite3.connect('rental.sqlite')\n",
    "df = pd.read_sql_query('''\n",
    "                  SELECT\n",
    "                    flat_type,\n",
    "                    month,\n",
    "                    rental_units,\n",
    "                    ROUND(((rental_units/prev_rental_units)-1) ,2) AS rental_units_change,\n",
    "                    ROUND(monthly_rent,2) AS monthly_rent,\n",
    "                    ROUND(((monthly_rent/prev_monthly_rent)-1) ,2) AS monthly_rent_change\n",
    "                  FROM (\n",
    "                    SELECT *,\n",
    "                      CAST(LAG(rental_units) OVER (PARTITION BY flat_type ORDER BY month) AS FLOAT) AS prev_rental_units,\n",
    "                      CAST(LAG(monthly_rent) OVER (PARTITION BY flat_type ORDER BY month) AS FLOAT) AS prev_monthly_rent\n",
    "                    FROM (\n",
    "                      SELECT\n",
    "                        flat_type,\n",
    "                        DATE((rent_approval_date || '-01')) AS month,\n",
    "                        COUNT(*) AS rental_units,\n",
    "                        AVG(monthly_rent) AS monthly_rent\n",
    "                      FROM rental\n",
    "                      GROUP BY 1,2\n",
    "                    )\n",
    "                  )\n",
    "                  ORDER BY 1,2\n",
    "                  ''', conn)"
   ]
  },
  {
   "cell_type": "code",
   "execution_count": 5,
   "metadata": {},
   "outputs": [
    {
     "data": {
      "application/vnd.plotly.v1+json": {
       "config": {
        "plotlyServerURL": "https://plot.ly"
       },
       "data": [
        {
         "hovertemplate": "%{y} units",
         "legendgroup": "1-ROOM",
         "line": {
          "color": "#636efa",
          "dash": "solid"
         },
         "marker": {
          "symbol": "circle"
         },
         "mode": "lines",
         "name": "1-ROOM",
         "orientation": "v",
         "showlegend": true,
         "type": "scatter",
         "x": [
          "2021-02-01",
          "2021-03-01",
          "2021-05-01",
          "2021-06-01",
          "2021-08-01",
          "2021-11-01",
          "2021-12-01",
          "2022-02-01",
          "2022-03-01",
          "2022-04-01",
          "2022-05-01",
          "2022-06-01",
          "2022-09-01",
          "2022-11-01",
          "2023-01-01",
          "2023-02-01",
          "2023-03-01",
          "2023-04-01",
          "2023-06-01",
          "2023-10-01",
          "2023-12-01",
          "2024-02-01",
          "2024-03-01",
          "2024-04-01",
          "2024-06-01",
          "2024-07-01",
          "2024-09-01",
          "2024-10-01",
          "2024-11-01"
         ],
         "xaxis": "x",
         "y": [
          1,
          1,
          2,
          1,
          1,
          2,
          1,
          1,
          2,
          2,
          2,
          1,
          2,
          1,
          1,
          1,
          1,
          1,
          3,
          1,
          1,
          3,
          1,
          4,
          1,
          1,
          2,
          1,
          2
         ],
         "yaxis": "y"
        },
        {
         "hovertemplate": "%{y} units",
         "legendgroup": "2-ROOM",
         "line": {
          "color": "#EF553B",
          "dash": "solid"
         },
         "marker": {
          "symbol": "circle"
         },
         "mode": "lines",
         "name": "2-ROOM",
         "orientation": "v",
         "showlegend": true,
         "type": "scatter",
         "x": [
          "2021-01-01",
          "2021-02-01",
          "2021-03-01",
          "2021-04-01",
          "2021-05-01",
          "2021-06-01",
          "2021-07-01",
          "2021-08-01",
          "2021-09-01",
          "2021-10-01",
          "2021-11-01",
          "2021-12-01",
          "2022-01-01",
          "2022-02-01",
          "2022-03-01",
          "2022-04-01",
          "2022-05-01",
          "2022-06-01",
          "2022-07-01",
          "2022-08-01",
          "2022-09-01",
          "2022-10-01",
          "2022-11-01",
          "2022-12-01",
          "2023-01-01",
          "2023-02-01",
          "2023-03-01",
          "2023-04-01",
          "2023-05-01",
          "2023-06-01",
          "2023-07-01",
          "2023-08-01",
          "2023-09-01",
          "2023-10-01",
          "2023-11-01",
          "2023-12-01",
          "2024-01-01",
          "2024-02-01",
          "2024-03-01",
          "2024-04-01",
          "2024-05-01",
          "2024-06-01",
          "2024-07-01",
          "2024-08-01",
          "2024-09-01",
          "2024-10-01",
          "2024-11-01"
         ],
         "xaxis": "x",
         "y": [
          51,
          34,
          48,
          45,
          46,
          46,
          42,
          56,
          50,
          54,
          43,
          44,
          44,
          32,
          66,
          50,
          38,
          46,
          51,
          56,
          57,
          65,
          61,
          46,
          40,
          60,
          74,
          51,
          72,
          79,
          68,
          91,
          79,
          84,
          68,
          79,
          74,
          62,
          86,
          89,
          71,
          81,
          87,
          72,
          87,
          87,
          77
         ],
         "yaxis": "y"
        },
        {
         "hovertemplate": "%{y} units",
         "legendgroup": "3-ROOM",
         "line": {
          "color": "#00cc96",
          "dash": "solid"
         },
         "marker": {
          "symbol": "circle"
         },
         "mode": "lines",
         "name": "3-ROOM",
         "orientation": "v",
         "showlegend": true,
         "type": "scatter",
         "x": [
          "2021-01-01",
          "2021-02-01",
          "2021-03-01",
          "2021-04-01",
          "2021-05-01",
          "2021-06-01",
          "2021-07-01",
          "2021-08-01",
          "2021-09-01",
          "2021-10-01",
          "2021-11-01",
          "2021-12-01",
          "2022-01-01",
          "2022-02-01",
          "2022-03-01",
          "2022-04-01",
          "2022-05-01",
          "2022-06-01",
          "2022-07-01",
          "2022-08-01",
          "2022-09-01",
          "2022-10-01",
          "2022-11-01",
          "2022-12-01",
          "2023-01-01",
          "2023-02-01",
          "2023-03-01",
          "2023-04-01",
          "2023-05-01",
          "2023-06-01",
          "2023-07-01",
          "2023-08-01",
          "2023-09-01",
          "2023-10-01",
          "2023-11-01",
          "2023-12-01",
          "2024-01-01",
          "2024-02-01",
          "2024-03-01",
          "2024-04-01",
          "2024-05-01",
          "2024-06-01",
          "2024-07-01",
          "2024-08-01",
          "2024-09-01",
          "2024-10-01",
          "2024-11-01"
         ],
         "xaxis": "x",
         "y": [
          1043,
          904,
          1184,
          978,
          1127,
          1108,
          1058,
          1064,
          1030,
          990,
          987,
          1047,
          1131,
          879,
          1109,
          903,
          1010,
          942,
          928,
          829,
          772,
          839,
          834,
          897,
          907,
          981,
          1095,
          1019,
          987,
          1032,
          1112,
          951,
          910,
          1029,
          962,
          1015,
          1079,
          882,
          1080,
          1056,
          1036,
          1060,
          1082,
          1004,
          887,
          922,
          895
         ],
         "yaxis": "y"
        },
        {
         "hovertemplate": "%{y} units",
         "legendgroup": "4-ROOM",
         "line": {
          "color": "#ab63fa",
          "dash": "solid"
         },
         "marker": {
          "symbol": "circle"
         },
         "mode": "lines",
         "name": "4-ROOM",
         "orientation": "v",
         "showlegend": true,
         "type": "scatter",
         "x": [
          "2021-01-01",
          "2021-02-01",
          "2021-03-01",
          "2021-04-01",
          "2021-05-01",
          "2021-06-01",
          "2021-07-01",
          "2021-08-01",
          "2021-09-01",
          "2021-10-01",
          "2021-11-01",
          "2021-12-01",
          "2022-01-01",
          "2022-02-01",
          "2022-03-01",
          "2022-04-01",
          "2022-05-01",
          "2022-06-01",
          "2022-07-01",
          "2022-08-01",
          "2022-09-01",
          "2022-10-01",
          "2022-11-01",
          "2022-12-01",
          "2023-01-01",
          "2023-02-01",
          "2023-03-01",
          "2023-04-01",
          "2023-05-01",
          "2023-06-01",
          "2023-07-01",
          "2023-08-01",
          "2023-09-01",
          "2023-10-01",
          "2023-11-01",
          "2023-12-01",
          "2024-01-01",
          "2024-02-01",
          "2024-03-01",
          "2024-04-01",
          "2024-05-01",
          "2024-06-01",
          "2024-07-01",
          "2024-08-01",
          "2024-09-01",
          "2024-10-01",
          "2024-11-01"
         ],
         "xaxis": "x",
         "y": [
          1132,
          947,
          1375,
          1112,
          1310,
          1156,
          1190,
          1090,
          1115,
          1180,
          1032,
          1181,
          1208,
          957,
          1132,
          956,
          1064,
          1028,
          1009,
          891,
          914,
          973,
          923,
          1048,
          940,
          1090,
          1187,
          1109,
          1116,
          1123,
          1218,
          1135,
          1041,
          1126,
          1116,
          1109,
          1229,
          994,
          1127,
          1214,
          1176,
          1123,
          1196,
          1085,
          1032,
          1010,
          1036
         ],
         "yaxis": "y"
        },
        {
         "hovertemplate": "%{y} units",
         "legendgroup": "5-ROOM",
         "line": {
          "color": "#FFA15A",
          "dash": "solid"
         },
         "marker": {
          "symbol": "circle"
         },
         "mode": "lines",
         "name": "5-ROOM",
         "orientation": "v",
         "showlegend": true,
         "type": "scatter",
         "x": [
          "2021-01-01",
          "2021-02-01",
          "2021-03-01",
          "2021-04-01",
          "2021-05-01",
          "2021-06-01",
          "2021-07-01",
          "2021-08-01",
          "2021-09-01",
          "2021-10-01",
          "2021-11-01",
          "2021-12-01",
          "2022-01-01",
          "2022-02-01",
          "2022-03-01",
          "2022-04-01",
          "2022-05-01",
          "2022-06-01",
          "2022-07-01",
          "2022-08-01",
          "2022-09-01",
          "2022-10-01",
          "2022-11-01",
          "2022-12-01",
          "2023-01-01",
          "2023-02-01",
          "2023-03-01",
          "2023-04-01",
          "2023-05-01",
          "2023-06-01",
          "2023-07-01",
          "2023-08-01",
          "2023-09-01",
          "2023-10-01",
          "2023-11-01",
          "2023-12-01",
          "2024-01-01",
          "2024-02-01",
          "2024-03-01",
          "2024-04-01",
          "2024-05-01",
          "2024-06-01",
          "2024-07-01",
          "2024-08-01",
          "2024-09-01",
          "2024-10-01",
          "2024-11-01"
         ],
         "xaxis": "x",
         "y": [
          813,
          694,
          989,
          789,
          914,
          818,
          770,
          781,
          706,
          764,
          753,
          812,
          803,
          684,
          842,
          644,
          671,
          701,
          598,
          598,
          571,
          582,
          643,
          633,
          670,
          733,
          776,
          725,
          748,
          709,
          768,
          724,
          651,
          729,
          712,
          737,
          723,
          655,
          826,
          715,
          704,
          693,
          811,
          643,
          639,
          619,
          636
         ],
         "yaxis": "y"
        },
        {
         "hovertemplate": "%{y} units",
         "legendgroup": "EXECUTIVE",
         "line": {
          "color": "#19d3f3",
          "dash": "solid"
         },
         "marker": {
          "symbol": "circle"
         },
         "mode": "lines",
         "name": "EXECUTIVE",
         "orientation": "v",
         "showlegend": true,
         "type": "scatter",
         "x": [
          "2021-01-01",
          "2021-02-01",
          "2021-03-01",
          "2021-04-01",
          "2021-05-01",
          "2021-06-01",
          "2021-07-01",
          "2021-08-01",
          "2021-09-01",
          "2021-10-01",
          "2021-11-01",
          "2021-12-01",
          "2022-01-01",
          "2022-02-01",
          "2022-03-01",
          "2022-04-01",
          "2022-05-01",
          "2022-06-01",
          "2022-07-01",
          "2022-08-01",
          "2022-09-01",
          "2022-10-01",
          "2022-11-01",
          "2022-12-01",
          "2023-01-01",
          "2023-02-01",
          "2023-03-01",
          "2023-04-01",
          "2023-05-01",
          "2023-06-01",
          "2023-07-01",
          "2023-08-01",
          "2023-09-01",
          "2023-10-01",
          "2023-11-01",
          "2023-12-01",
          "2024-01-01",
          "2024-02-01",
          "2024-03-01",
          "2024-04-01",
          "2024-05-01",
          "2024-06-01",
          "2024-07-01",
          "2024-08-01",
          "2024-09-01",
          "2024-10-01",
          "2024-11-01"
         ],
         "xaxis": "x",
         "y": [
          199,
          201,
          229,
          189,
          195,
          207,
          213,
          178,
          198,
          208,
          182,
          172,
          193,
          172,
          162,
          156,
          161,
          152,
          143,
          119,
          131,
          163,
          148,
          143,
          146,
          192,
          175,
          161,
          162,
          193,
          163,
          172,
          141,
          170,
          177,
          156,
          186,
          150,
          155,
          168,
          151,
          175,
          181,
          147,
          146,
          122,
          140
         ],
         "yaxis": "y"
        }
       ],
       "layout": {
        "hovermode": "x unified",
        "legend": {
         "title": {
          "text": "Flat Type"
         },
         "tracegroupgap": 0
        },
        "template": {
         "data": {
          "bar": [
           {
            "error_x": {
             "color": "#2a3f5f"
            },
            "error_y": {
             "color": "#2a3f5f"
            },
            "marker": {
             "line": {
              "color": "#E5ECF6",
              "width": 0.5
             },
             "pattern": {
              "fillmode": "overlay",
              "size": 10,
              "solidity": 0.2
             }
            },
            "type": "bar"
           }
          ],
          "barpolar": [
           {
            "marker": {
             "line": {
              "color": "#E5ECF6",
              "width": 0.5
             },
             "pattern": {
              "fillmode": "overlay",
              "size": 10,
              "solidity": 0.2
             }
            },
            "type": "barpolar"
           }
          ],
          "carpet": [
           {
            "aaxis": {
             "endlinecolor": "#2a3f5f",
             "gridcolor": "white",
             "linecolor": "white",
             "minorgridcolor": "white",
             "startlinecolor": "#2a3f5f"
            },
            "baxis": {
             "endlinecolor": "#2a3f5f",
             "gridcolor": "white",
             "linecolor": "white",
             "minorgridcolor": "white",
             "startlinecolor": "#2a3f5f"
            },
            "type": "carpet"
           }
          ],
          "choropleth": [
           {
            "colorbar": {
             "outlinewidth": 0,
             "ticks": ""
            },
            "type": "choropleth"
           }
          ],
          "contour": [
           {
            "colorbar": {
             "outlinewidth": 0,
             "ticks": ""
            },
            "colorscale": [
             [
              0,
              "#0d0887"
             ],
             [
              0.1111111111111111,
              "#46039f"
             ],
             [
              0.2222222222222222,
              "#7201a8"
             ],
             [
              0.3333333333333333,
              "#9c179e"
             ],
             [
              0.4444444444444444,
              "#bd3786"
             ],
             [
              0.5555555555555556,
              "#d8576b"
             ],
             [
              0.6666666666666666,
              "#ed7953"
             ],
             [
              0.7777777777777778,
              "#fb9f3a"
             ],
             [
              0.8888888888888888,
              "#fdca26"
             ],
             [
              1,
              "#f0f921"
             ]
            ],
            "type": "contour"
           }
          ],
          "contourcarpet": [
           {
            "colorbar": {
             "outlinewidth": 0,
             "ticks": ""
            },
            "type": "contourcarpet"
           }
          ],
          "heatmap": [
           {
            "colorbar": {
             "outlinewidth": 0,
             "ticks": ""
            },
            "colorscale": [
             [
              0,
              "#0d0887"
             ],
             [
              0.1111111111111111,
              "#46039f"
             ],
             [
              0.2222222222222222,
              "#7201a8"
             ],
             [
              0.3333333333333333,
              "#9c179e"
             ],
             [
              0.4444444444444444,
              "#bd3786"
             ],
             [
              0.5555555555555556,
              "#d8576b"
             ],
             [
              0.6666666666666666,
              "#ed7953"
             ],
             [
              0.7777777777777778,
              "#fb9f3a"
             ],
             [
              0.8888888888888888,
              "#fdca26"
             ],
             [
              1,
              "#f0f921"
             ]
            ],
            "type": "heatmap"
           }
          ],
          "heatmapgl": [
           {
            "colorbar": {
             "outlinewidth": 0,
             "ticks": ""
            },
            "colorscale": [
             [
              0,
              "#0d0887"
             ],
             [
              0.1111111111111111,
              "#46039f"
             ],
             [
              0.2222222222222222,
              "#7201a8"
             ],
             [
              0.3333333333333333,
              "#9c179e"
             ],
             [
              0.4444444444444444,
              "#bd3786"
             ],
             [
              0.5555555555555556,
              "#d8576b"
             ],
             [
              0.6666666666666666,
              "#ed7953"
             ],
             [
              0.7777777777777778,
              "#fb9f3a"
             ],
             [
              0.8888888888888888,
              "#fdca26"
             ],
             [
              1,
              "#f0f921"
             ]
            ],
            "type": "heatmapgl"
           }
          ],
          "histogram": [
           {
            "marker": {
             "pattern": {
              "fillmode": "overlay",
              "size": 10,
              "solidity": 0.2
             }
            },
            "type": "histogram"
           }
          ],
          "histogram2d": [
           {
            "colorbar": {
             "outlinewidth": 0,
             "ticks": ""
            },
            "colorscale": [
             [
              0,
              "#0d0887"
             ],
             [
              0.1111111111111111,
              "#46039f"
             ],
             [
              0.2222222222222222,
              "#7201a8"
             ],
             [
              0.3333333333333333,
              "#9c179e"
             ],
             [
              0.4444444444444444,
              "#bd3786"
             ],
             [
              0.5555555555555556,
              "#d8576b"
             ],
             [
              0.6666666666666666,
              "#ed7953"
             ],
             [
              0.7777777777777778,
              "#fb9f3a"
             ],
             [
              0.8888888888888888,
              "#fdca26"
             ],
             [
              1,
              "#f0f921"
             ]
            ],
            "type": "histogram2d"
           }
          ],
          "histogram2dcontour": [
           {
            "colorbar": {
             "outlinewidth": 0,
             "ticks": ""
            },
            "colorscale": [
             [
              0,
              "#0d0887"
             ],
             [
              0.1111111111111111,
              "#46039f"
             ],
             [
              0.2222222222222222,
              "#7201a8"
             ],
             [
              0.3333333333333333,
              "#9c179e"
             ],
             [
              0.4444444444444444,
              "#bd3786"
             ],
             [
              0.5555555555555556,
              "#d8576b"
             ],
             [
              0.6666666666666666,
              "#ed7953"
             ],
             [
              0.7777777777777778,
              "#fb9f3a"
             ],
             [
              0.8888888888888888,
              "#fdca26"
             ],
             [
              1,
              "#f0f921"
             ]
            ],
            "type": "histogram2dcontour"
           }
          ],
          "mesh3d": [
           {
            "colorbar": {
             "outlinewidth": 0,
             "ticks": ""
            },
            "type": "mesh3d"
           }
          ],
          "parcoords": [
           {
            "line": {
             "colorbar": {
              "outlinewidth": 0,
              "ticks": ""
             }
            },
            "type": "parcoords"
           }
          ],
          "pie": [
           {
            "automargin": true,
            "type": "pie"
           }
          ],
          "scatter": [
           {
            "fillpattern": {
             "fillmode": "overlay",
             "size": 10,
             "solidity": 0.2
            },
            "type": "scatter"
           }
          ],
          "scatter3d": [
           {
            "line": {
             "colorbar": {
              "outlinewidth": 0,
              "ticks": ""
             }
            },
            "marker": {
             "colorbar": {
              "outlinewidth": 0,
              "ticks": ""
             }
            },
            "type": "scatter3d"
           }
          ],
          "scattercarpet": [
           {
            "marker": {
             "colorbar": {
              "outlinewidth": 0,
              "ticks": ""
             }
            },
            "type": "scattercarpet"
           }
          ],
          "scattergeo": [
           {
            "marker": {
             "colorbar": {
              "outlinewidth": 0,
              "ticks": ""
             }
            },
            "type": "scattergeo"
           }
          ],
          "scattergl": [
           {
            "marker": {
             "colorbar": {
              "outlinewidth": 0,
              "ticks": ""
             }
            },
            "type": "scattergl"
           }
          ],
          "scattermapbox": [
           {
            "marker": {
             "colorbar": {
              "outlinewidth": 0,
              "ticks": ""
             }
            },
            "type": "scattermapbox"
           }
          ],
          "scatterpolar": [
           {
            "marker": {
             "colorbar": {
              "outlinewidth": 0,
              "ticks": ""
             }
            },
            "type": "scatterpolar"
           }
          ],
          "scatterpolargl": [
           {
            "marker": {
             "colorbar": {
              "outlinewidth": 0,
              "ticks": ""
             }
            },
            "type": "scatterpolargl"
           }
          ],
          "scatterternary": [
           {
            "marker": {
             "colorbar": {
              "outlinewidth": 0,
              "ticks": ""
             }
            },
            "type": "scatterternary"
           }
          ],
          "surface": [
           {
            "colorbar": {
             "outlinewidth": 0,
             "ticks": ""
            },
            "colorscale": [
             [
              0,
              "#0d0887"
             ],
             [
              0.1111111111111111,
              "#46039f"
             ],
             [
              0.2222222222222222,
              "#7201a8"
             ],
             [
              0.3333333333333333,
              "#9c179e"
             ],
             [
              0.4444444444444444,
              "#bd3786"
             ],
             [
              0.5555555555555556,
              "#d8576b"
             ],
             [
              0.6666666666666666,
              "#ed7953"
             ],
             [
              0.7777777777777778,
              "#fb9f3a"
             ],
             [
              0.8888888888888888,
              "#fdca26"
             ],
             [
              1,
              "#f0f921"
             ]
            ],
            "type": "surface"
           }
          ],
          "table": [
           {
            "cells": {
             "fill": {
              "color": "#EBF0F8"
             },
             "line": {
              "color": "white"
             }
            },
            "header": {
             "fill": {
              "color": "#C8D4E3"
             },
             "line": {
              "color": "white"
             }
            },
            "type": "table"
           }
          ]
         },
         "layout": {
          "annotationdefaults": {
           "arrowcolor": "#2a3f5f",
           "arrowhead": 0,
           "arrowwidth": 1
          },
          "autotypenumbers": "strict",
          "coloraxis": {
           "colorbar": {
            "outlinewidth": 0,
            "ticks": ""
           }
          },
          "colorscale": {
           "diverging": [
            [
             0,
             "#8e0152"
            ],
            [
             0.1,
             "#c51b7d"
            ],
            [
             0.2,
             "#de77ae"
            ],
            [
             0.3,
             "#f1b6da"
            ],
            [
             0.4,
             "#fde0ef"
            ],
            [
             0.5,
             "#f7f7f7"
            ],
            [
             0.6,
             "#e6f5d0"
            ],
            [
             0.7,
             "#b8e186"
            ],
            [
             0.8,
             "#7fbc41"
            ],
            [
             0.9,
             "#4d9221"
            ],
            [
             1,
             "#276419"
            ]
           ],
           "sequential": [
            [
             0,
             "#0d0887"
            ],
            [
             0.1111111111111111,
             "#46039f"
            ],
            [
             0.2222222222222222,
             "#7201a8"
            ],
            [
             0.3333333333333333,
             "#9c179e"
            ],
            [
             0.4444444444444444,
             "#bd3786"
            ],
            [
             0.5555555555555556,
             "#d8576b"
            ],
            [
             0.6666666666666666,
             "#ed7953"
            ],
            [
             0.7777777777777778,
             "#fb9f3a"
            ],
            [
             0.8888888888888888,
             "#fdca26"
            ],
            [
             1,
             "#f0f921"
            ]
           ],
           "sequentialminus": [
            [
             0,
             "#0d0887"
            ],
            [
             0.1111111111111111,
             "#46039f"
            ],
            [
             0.2222222222222222,
             "#7201a8"
            ],
            [
             0.3333333333333333,
             "#9c179e"
            ],
            [
             0.4444444444444444,
             "#bd3786"
            ],
            [
             0.5555555555555556,
             "#d8576b"
            ],
            [
             0.6666666666666666,
             "#ed7953"
            ],
            [
             0.7777777777777778,
             "#fb9f3a"
            ],
            [
             0.8888888888888888,
             "#fdca26"
            ],
            [
             1,
             "#f0f921"
            ]
           ]
          },
          "colorway": [
           "#636efa",
           "#EF553B",
           "#00cc96",
           "#ab63fa",
           "#FFA15A",
           "#19d3f3",
           "#FF6692",
           "#B6E880",
           "#FF97FF",
           "#FECB52"
          ],
          "font": {
           "color": "#2a3f5f"
          },
          "geo": {
           "bgcolor": "white",
           "lakecolor": "white",
           "landcolor": "#E5ECF6",
           "showlakes": true,
           "showland": true,
           "subunitcolor": "white"
          },
          "hoverlabel": {
           "align": "left"
          },
          "hovermode": "closest",
          "mapbox": {
           "style": "light"
          },
          "paper_bgcolor": "white",
          "plot_bgcolor": "#E5ECF6",
          "polar": {
           "angularaxis": {
            "gridcolor": "white",
            "linecolor": "white",
            "ticks": ""
           },
           "bgcolor": "#E5ECF6",
           "radialaxis": {
            "gridcolor": "white",
            "linecolor": "white",
            "ticks": ""
           }
          },
          "scene": {
           "xaxis": {
            "backgroundcolor": "#E5ECF6",
            "gridcolor": "white",
            "gridwidth": 2,
            "linecolor": "white",
            "showbackground": true,
            "ticks": "",
            "zerolinecolor": "white"
           },
           "yaxis": {
            "backgroundcolor": "#E5ECF6",
            "gridcolor": "white",
            "gridwidth": 2,
            "linecolor": "white",
            "showbackground": true,
            "ticks": "",
            "zerolinecolor": "white"
           },
           "zaxis": {
            "backgroundcolor": "#E5ECF6",
            "gridcolor": "white",
            "gridwidth": 2,
            "linecolor": "white",
            "showbackground": true,
            "ticks": "",
            "zerolinecolor": "white"
           }
          },
          "shapedefaults": {
           "line": {
            "color": "#2a3f5f"
           }
          },
          "ternary": {
           "aaxis": {
            "gridcolor": "white",
            "linecolor": "white",
            "ticks": ""
           },
           "baxis": {
            "gridcolor": "white",
            "linecolor": "white",
            "ticks": ""
           },
           "bgcolor": "#E5ECF6",
           "caxis": {
            "gridcolor": "white",
            "linecolor": "white",
            "ticks": ""
           }
          },
          "title": {
           "x": 0.05
          },
          "xaxis": {
           "automargin": true,
           "gridcolor": "white",
           "linecolor": "white",
           "ticks": "",
           "title": {
            "standoff": 15
           },
           "zerolinecolor": "white",
           "zerolinewidth": 2
          },
          "yaxis": {
           "automargin": true,
           "gridcolor": "white",
           "linecolor": "white",
           "ticks": "",
           "title": {
            "standoff": 15
           },
           "zerolinecolor": "white",
           "zerolinewidth": 2
          }
         }
        },
        "title": {
         "text": "HDB Rental units per month"
        },
        "xaxis": {
         "anchor": "y",
         "domain": [
          0,
          1
         ],
         "title": {
          "text": "Month"
         }
        },
        "yaxis": {
         "anchor": "x",
         "domain": [
          0,
          1
         ],
         "tickformat": ",",
         "title": {
          "text": "# of Rental Units"
         }
        }
       }
      }
     },
     "metadata": {},
     "output_type": "display_data"
    },
    {
     "data": {
      "application/vnd.plotly.v1+json": {
       "config": {
        "plotlyServerURL": "https://plot.ly"
       },
       "data": [
        {
         "alignmentgroup": "True",
         "hovertemplate": "%{y} units",
         "legendgroup": "1-ROOM",
         "marker": {
          "color": "#636efa",
          "pattern": {
           "shape": ""
          }
         },
         "name": "1-ROOM",
         "offsetgroup": "1-ROOM",
         "orientation": "v",
         "showlegend": true,
         "textposition": "auto",
         "type": "bar",
         "x": [
          "2021-02-01",
          "2021-03-01",
          "2021-05-01",
          "2021-06-01",
          "2021-08-01",
          "2021-11-01",
          "2021-12-01",
          "2022-02-01",
          "2022-03-01",
          "2022-04-01",
          "2022-05-01",
          "2022-06-01",
          "2022-09-01",
          "2022-11-01",
          "2023-01-01",
          "2023-02-01",
          "2023-03-01",
          "2023-04-01",
          "2023-06-01",
          "2023-10-01",
          "2023-12-01",
          "2024-02-01",
          "2024-03-01",
          "2024-04-01",
          "2024-06-01",
          "2024-07-01",
          "2024-09-01",
          "2024-10-01",
          "2024-11-01"
         ],
         "xaxis": "x",
         "y": [
          null,
          0,
          1,
          -0.5,
          0,
          1,
          -0.5,
          0,
          1,
          0,
          0,
          -0.5,
          1,
          -0.5,
          0,
          0,
          0,
          0,
          2,
          -0.67,
          0,
          2,
          -0.67,
          3,
          -0.75,
          0,
          1,
          -0.5,
          1
         ],
         "yaxis": "y"
        },
        {
         "alignmentgroup": "True",
         "hovertemplate": "%{y} units",
         "legendgroup": "2-ROOM",
         "marker": {
          "color": "#EF553B",
          "pattern": {
           "shape": ""
          }
         },
         "name": "2-ROOM",
         "offsetgroup": "2-ROOM",
         "orientation": "v",
         "showlegend": true,
         "textposition": "auto",
         "type": "bar",
         "x": [
          "2021-01-01",
          "2021-02-01",
          "2021-03-01",
          "2021-04-01",
          "2021-05-01",
          "2021-06-01",
          "2021-07-01",
          "2021-08-01",
          "2021-09-01",
          "2021-10-01",
          "2021-11-01",
          "2021-12-01",
          "2022-01-01",
          "2022-02-01",
          "2022-03-01",
          "2022-04-01",
          "2022-05-01",
          "2022-06-01",
          "2022-07-01",
          "2022-08-01",
          "2022-09-01",
          "2022-10-01",
          "2022-11-01",
          "2022-12-01",
          "2023-01-01",
          "2023-02-01",
          "2023-03-01",
          "2023-04-01",
          "2023-05-01",
          "2023-06-01",
          "2023-07-01",
          "2023-08-01",
          "2023-09-01",
          "2023-10-01",
          "2023-11-01",
          "2023-12-01",
          "2024-01-01",
          "2024-02-01",
          "2024-03-01",
          "2024-04-01",
          "2024-05-01",
          "2024-06-01",
          "2024-07-01",
          "2024-08-01",
          "2024-09-01",
          "2024-10-01",
          "2024-11-01"
         ],
         "xaxis": "x",
         "y": [
          null,
          -0.33,
          0.41,
          -0.06,
          0.02,
          0,
          -0.09,
          0.33,
          -0.11,
          0.08,
          -0.2,
          0.02,
          0,
          -0.27,
          1.06,
          -0.24,
          -0.24,
          0.21,
          0.11,
          0.1,
          0.02,
          0.14,
          -0.06,
          -0.25,
          -0.13,
          0.5,
          0.23,
          -0.31,
          0.41,
          0.1,
          -0.14,
          0.34,
          -0.13,
          0.06,
          -0.19,
          0.16,
          -0.06,
          -0.16,
          0.39,
          0.03,
          -0.2,
          0.14,
          0.07,
          -0.17,
          0.21,
          0,
          -0.11
         ],
         "yaxis": "y"
        },
        {
         "alignmentgroup": "True",
         "hovertemplate": "%{y} units",
         "legendgroup": "3-ROOM",
         "marker": {
          "color": "#00cc96",
          "pattern": {
           "shape": ""
          }
         },
         "name": "3-ROOM",
         "offsetgroup": "3-ROOM",
         "orientation": "v",
         "showlegend": true,
         "textposition": "auto",
         "type": "bar",
         "x": [
          "2021-01-01",
          "2021-02-01",
          "2021-03-01",
          "2021-04-01",
          "2021-05-01",
          "2021-06-01",
          "2021-07-01",
          "2021-08-01",
          "2021-09-01",
          "2021-10-01",
          "2021-11-01",
          "2021-12-01",
          "2022-01-01",
          "2022-02-01",
          "2022-03-01",
          "2022-04-01",
          "2022-05-01",
          "2022-06-01",
          "2022-07-01",
          "2022-08-01",
          "2022-09-01",
          "2022-10-01",
          "2022-11-01",
          "2022-12-01",
          "2023-01-01",
          "2023-02-01",
          "2023-03-01",
          "2023-04-01",
          "2023-05-01",
          "2023-06-01",
          "2023-07-01",
          "2023-08-01",
          "2023-09-01",
          "2023-10-01",
          "2023-11-01",
          "2023-12-01",
          "2024-01-01",
          "2024-02-01",
          "2024-03-01",
          "2024-04-01",
          "2024-05-01",
          "2024-06-01",
          "2024-07-01",
          "2024-08-01",
          "2024-09-01",
          "2024-10-01",
          "2024-11-01"
         ],
         "xaxis": "x",
         "y": [
          null,
          -0.13,
          0.31,
          -0.17,
          0.15,
          -0.02,
          -0.05,
          0.01,
          -0.03,
          -0.04,
          0,
          0.06,
          0.08,
          -0.22,
          0.26,
          -0.19,
          0.12,
          -0.07,
          -0.01,
          -0.11,
          -0.07,
          0.09,
          -0.01,
          0.08,
          0.01,
          0.08,
          0.12,
          -0.07,
          -0.03,
          0.05,
          0.08,
          -0.14,
          -0.04,
          0.13,
          -0.07,
          0.06,
          0.06,
          -0.18,
          0.22,
          -0.02,
          -0.02,
          0.02,
          0.02,
          -0.07,
          -0.12,
          0.04,
          -0.03
         ],
         "yaxis": "y"
        },
        {
         "alignmentgroup": "True",
         "hovertemplate": "%{y} units",
         "legendgroup": "4-ROOM",
         "marker": {
          "color": "#ab63fa",
          "pattern": {
           "shape": ""
          }
         },
         "name": "4-ROOM",
         "offsetgroup": "4-ROOM",
         "orientation": "v",
         "showlegend": true,
         "textposition": "auto",
         "type": "bar",
         "x": [
          "2021-01-01",
          "2021-02-01",
          "2021-03-01",
          "2021-04-01",
          "2021-05-01",
          "2021-06-01",
          "2021-07-01",
          "2021-08-01",
          "2021-09-01",
          "2021-10-01",
          "2021-11-01",
          "2021-12-01",
          "2022-01-01",
          "2022-02-01",
          "2022-03-01",
          "2022-04-01",
          "2022-05-01",
          "2022-06-01",
          "2022-07-01",
          "2022-08-01",
          "2022-09-01",
          "2022-10-01",
          "2022-11-01",
          "2022-12-01",
          "2023-01-01",
          "2023-02-01",
          "2023-03-01",
          "2023-04-01",
          "2023-05-01",
          "2023-06-01",
          "2023-07-01",
          "2023-08-01",
          "2023-09-01",
          "2023-10-01",
          "2023-11-01",
          "2023-12-01",
          "2024-01-01",
          "2024-02-01",
          "2024-03-01",
          "2024-04-01",
          "2024-05-01",
          "2024-06-01",
          "2024-07-01",
          "2024-08-01",
          "2024-09-01",
          "2024-10-01",
          "2024-11-01"
         ],
         "xaxis": "x",
         "y": [
          null,
          -0.16,
          0.45,
          -0.19,
          0.18,
          -0.12,
          0.03,
          -0.08,
          0.02,
          0.06,
          -0.13,
          0.14,
          0.02,
          -0.21,
          0.18,
          -0.16,
          0.11,
          -0.03,
          -0.02,
          -0.12,
          0.03,
          0.06,
          -0.05,
          0.14,
          -0.1,
          0.16,
          0.09,
          -0.07,
          0.01,
          0.01,
          0.08,
          -0.07,
          -0.08,
          0.08,
          -0.01,
          -0.01,
          0.11,
          -0.19,
          0.13,
          0.08,
          -0.03,
          -0.05,
          0.07,
          -0.09,
          -0.05,
          -0.02,
          0.03
         ],
         "yaxis": "y"
        },
        {
         "alignmentgroup": "True",
         "hovertemplate": "%{y} units",
         "legendgroup": "5-ROOM",
         "marker": {
          "color": "#FFA15A",
          "pattern": {
           "shape": ""
          }
         },
         "name": "5-ROOM",
         "offsetgroup": "5-ROOM",
         "orientation": "v",
         "showlegend": true,
         "textposition": "auto",
         "type": "bar",
         "x": [
          "2021-01-01",
          "2021-02-01",
          "2021-03-01",
          "2021-04-01",
          "2021-05-01",
          "2021-06-01",
          "2021-07-01",
          "2021-08-01",
          "2021-09-01",
          "2021-10-01",
          "2021-11-01",
          "2021-12-01",
          "2022-01-01",
          "2022-02-01",
          "2022-03-01",
          "2022-04-01",
          "2022-05-01",
          "2022-06-01",
          "2022-07-01",
          "2022-08-01",
          "2022-09-01",
          "2022-10-01",
          "2022-11-01",
          "2022-12-01",
          "2023-01-01",
          "2023-02-01",
          "2023-03-01",
          "2023-04-01",
          "2023-05-01",
          "2023-06-01",
          "2023-07-01",
          "2023-08-01",
          "2023-09-01",
          "2023-10-01",
          "2023-11-01",
          "2023-12-01",
          "2024-01-01",
          "2024-02-01",
          "2024-03-01",
          "2024-04-01",
          "2024-05-01",
          "2024-06-01",
          "2024-07-01",
          "2024-08-01",
          "2024-09-01",
          "2024-10-01",
          "2024-11-01"
         ],
         "xaxis": "x",
         "y": [
          null,
          -0.15,
          0.43,
          -0.2,
          0.16,
          -0.11,
          -0.06,
          0.01,
          -0.1,
          0.08,
          -0.01,
          0.08,
          -0.01,
          -0.15,
          0.23,
          -0.24,
          0.04,
          0.04,
          -0.15,
          0,
          -0.05,
          0.02,
          0.1,
          -0.02,
          0.06,
          0.09,
          0.06,
          -0.07,
          0.03,
          -0.05,
          0.08,
          -0.06,
          -0.1,
          0.12,
          -0.02,
          0.04,
          -0.02,
          -0.09,
          0.26,
          -0.13,
          -0.02,
          -0.02,
          0.17,
          -0.21,
          -0.01,
          -0.03,
          0.03
         ],
         "yaxis": "y"
        },
        {
         "alignmentgroup": "True",
         "hovertemplate": "%{y} units",
         "legendgroup": "EXECUTIVE",
         "marker": {
          "color": "#19d3f3",
          "pattern": {
           "shape": ""
          }
         },
         "name": "EXECUTIVE",
         "offsetgroup": "EXECUTIVE",
         "orientation": "v",
         "showlegend": true,
         "textposition": "auto",
         "type": "bar",
         "x": [
          "2021-01-01",
          "2021-02-01",
          "2021-03-01",
          "2021-04-01",
          "2021-05-01",
          "2021-06-01",
          "2021-07-01",
          "2021-08-01",
          "2021-09-01",
          "2021-10-01",
          "2021-11-01",
          "2021-12-01",
          "2022-01-01",
          "2022-02-01",
          "2022-03-01",
          "2022-04-01",
          "2022-05-01",
          "2022-06-01",
          "2022-07-01",
          "2022-08-01",
          "2022-09-01",
          "2022-10-01",
          "2022-11-01",
          "2022-12-01",
          "2023-01-01",
          "2023-02-01",
          "2023-03-01",
          "2023-04-01",
          "2023-05-01",
          "2023-06-01",
          "2023-07-01",
          "2023-08-01",
          "2023-09-01",
          "2023-10-01",
          "2023-11-01",
          "2023-12-01",
          "2024-01-01",
          "2024-02-01",
          "2024-03-01",
          "2024-04-01",
          "2024-05-01",
          "2024-06-01",
          "2024-07-01",
          "2024-08-01",
          "2024-09-01",
          "2024-10-01",
          "2024-11-01"
         ],
         "xaxis": "x",
         "y": [
          null,
          0.01,
          0.14,
          -0.17,
          0.03,
          0.06,
          0.03,
          -0.16,
          0.11,
          0.05,
          -0.13,
          -0.05,
          0.12,
          -0.11,
          -0.06,
          -0.04,
          0.03,
          -0.06,
          -0.06,
          -0.17,
          0.1,
          0.24,
          -0.09,
          -0.03,
          0.02,
          0.32,
          -0.09,
          -0.08,
          0.01,
          0.19,
          -0.16,
          0.06,
          -0.18,
          0.21,
          0.04,
          -0.12,
          0.19,
          -0.19,
          0.03,
          0.08,
          -0.1,
          0.16,
          0.03,
          -0.19,
          -0.01,
          -0.16,
          0.15
         ],
         "yaxis": "y"
        }
       ],
       "layout": {
        "barmode": "relative",
        "hovermode": "x unified",
        "legend": {
         "title": {
          "text": "Flat Type"
         },
         "tracegroupgap": 0
        },
        "template": {
         "data": {
          "bar": [
           {
            "error_x": {
             "color": "#2a3f5f"
            },
            "error_y": {
             "color": "#2a3f5f"
            },
            "marker": {
             "line": {
              "color": "#E5ECF6",
              "width": 0.5
             },
             "pattern": {
              "fillmode": "overlay",
              "size": 10,
              "solidity": 0.2
             }
            },
            "type": "bar"
           }
          ],
          "barpolar": [
           {
            "marker": {
             "line": {
              "color": "#E5ECF6",
              "width": 0.5
             },
             "pattern": {
              "fillmode": "overlay",
              "size": 10,
              "solidity": 0.2
             }
            },
            "type": "barpolar"
           }
          ],
          "carpet": [
           {
            "aaxis": {
             "endlinecolor": "#2a3f5f",
             "gridcolor": "white",
             "linecolor": "white",
             "minorgridcolor": "white",
             "startlinecolor": "#2a3f5f"
            },
            "baxis": {
             "endlinecolor": "#2a3f5f",
             "gridcolor": "white",
             "linecolor": "white",
             "minorgridcolor": "white",
             "startlinecolor": "#2a3f5f"
            },
            "type": "carpet"
           }
          ],
          "choropleth": [
           {
            "colorbar": {
             "outlinewidth": 0,
             "ticks": ""
            },
            "type": "choropleth"
           }
          ],
          "contour": [
           {
            "colorbar": {
             "outlinewidth": 0,
             "ticks": ""
            },
            "colorscale": [
             [
              0,
              "#0d0887"
             ],
             [
              0.1111111111111111,
              "#46039f"
             ],
             [
              0.2222222222222222,
              "#7201a8"
             ],
             [
              0.3333333333333333,
              "#9c179e"
             ],
             [
              0.4444444444444444,
              "#bd3786"
             ],
             [
              0.5555555555555556,
              "#d8576b"
             ],
             [
              0.6666666666666666,
              "#ed7953"
             ],
             [
              0.7777777777777778,
              "#fb9f3a"
             ],
             [
              0.8888888888888888,
              "#fdca26"
             ],
             [
              1,
              "#f0f921"
             ]
            ],
            "type": "contour"
           }
          ],
          "contourcarpet": [
           {
            "colorbar": {
             "outlinewidth": 0,
             "ticks": ""
            },
            "type": "contourcarpet"
           }
          ],
          "heatmap": [
           {
            "colorbar": {
             "outlinewidth": 0,
             "ticks": ""
            },
            "colorscale": [
             [
              0,
              "#0d0887"
             ],
             [
              0.1111111111111111,
              "#46039f"
             ],
             [
              0.2222222222222222,
              "#7201a8"
             ],
             [
              0.3333333333333333,
              "#9c179e"
             ],
             [
              0.4444444444444444,
              "#bd3786"
             ],
             [
              0.5555555555555556,
              "#d8576b"
             ],
             [
              0.6666666666666666,
              "#ed7953"
             ],
             [
              0.7777777777777778,
              "#fb9f3a"
             ],
             [
              0.8888888888888888,
              "#fdca26"
             ],
             [
              1,
              "#f0f921"
             ]
            ],
            "type": "heatmap"
           }
          ],
          "heatmapgl": [
           {
            "colorbar": {
             "outlinewidth": 0,
             "ticks": ""
            },
            "colorscale": [
             [
              0,
              "#0d0887"
             ],
             [
              0.1111111111111111,
              "#46039f"
             ],
             [
              0.2222222222222222,
              "#7201a8"
             ],
             [
              0.3333333333333333,
              "#9c179e"
             ],
             [
              0.4444444444444444,
              "#bd3786"
             ],
             [
              0.5555555555555556,
              "#d8576b"
             ],
             [
              0.6666666666666666,
              "#ed7953"
             ],
             [
              0.7777777777777778,
              "#fb9f3a"
             ],
             [
              0.8888888888888888,
              "#fdca26"
             ],
             [
              1,
              "#f0f921"
             ]
            ],
            "type": "heatmapgl"
           }
          ],
          "histogram": [
           {
            "marker": {
             "pattern": {
              "fillmode": "overlay",
              "size": 10,
              "solidity": 0.2
             }
            },
            "type": "histogram"
           }
          ],
          "histogram2d": [
           {
            "colorbar": {
             "outlinewidth": 0,
             "ticks": ""
            },
            "colorscale": [
             [
              0,
              "#0d0887"
             ],
             [
              0.1111111111111111,
              "#46039f"
             ],
             [
              0.2222222222222222,
              "#7201a8"
             ],
             [
              0.3333333333333333,
              "#9c179e"
             ],
             [
              0.4444444444444444,
              "#bd3786"
             ],
             [
              0.5555555555555556,
              "#d8576b"
             ],
             [
              0.6666666666666666,
              "#ed7953"
             ],
             [
              0.7777777777777778,
              "#fb9f3a"
             ],
             [
              0.8888888888888888,
              "#fdca26"
             ],
             [
              1,
              "#f0f921"
             ]
            ],
            "type": "histogram2d"
           }
          ],
          "histogram2dcontour": [
           {
            "colorbar": {
             "outlinewidth": 0,
             "ticks": ""
            },
            "colorscale": [
             [
              0,
              "#0d0887"
             ],
             [
              0.1111111111111111,
              "#46039f"
             ],
             [
              0.2222222222222222,
              "#7201a8"
             ],
             [
              0.3333333333333333,
              "#9c179e"
             ],
             [
              0.4444444444444444,
              "#bd3786"
             ],
             [
              0.5555555555555556,
              "#d8576b"
             ],
             [
              0.6666666666666666,
              "#ed7953"
             ],
             [
              0.7777777777777778,
              "#fb9f3a"
             ],
             [
              0.8888888888888888,
              "#fdca26"
             ],
             [
              1,
              "#f0f921"
             ]
            ],
            "type": "histogram2dcontour"
           }
          ],
          "mesh3d": [
           {
            "colorbar": {
             "outlinewidth": 0,
             "ticks": ""
            },
            "type": "mesh3d"
           }
          ],
          "parcoords": [
           {
            "line": {
             "colorbar": {
              "outlinewidth": 0,
              "ticks": ""
             }
            },
            "type": "parcoords"
           }
          ],
          "pie": [
           {
            "automargin": true,
            "type": "pie"
           }
          ],
          "scatter": [
           {
            "fillpattern": {
             "fillmode": "overlay",
             "size": 10,
             "solidity": 0.2
            },
            "type": "scatter"
           }
          ],
          "scatter3d": [
           {
            "line": {
             "colorbar": {
              "outlinewidth": 0,
              "ticks": ""
             }
            },
            "marker": {
             "colorbar": {
              "outlinewidth": 0,
              "ticks": ""
             }
            },
            "type": "scatter3d"
           }
          ],
          "scattercarpet": [
           {
            "marker": {
             "colorbar": {
              "outlinewidth": 0,
              "ticks": ""
             }
            },
            "type": "scattercarpet"
           }
          ],
          "scattergeo": [
           {
            "marker": {
             "colorbar": {
              "outlinewidth": 0,
              "ticks": ""
             }
            },
            "type": "scattergeo"
           }
          ],
          "scattergl": [
           {
            "marker": {
             "colorbar": {
              "outlinewidth": 0,
              "ticks": ""
             }
            },
            "type": "scattergl"
           }
          ],
          "scattermapbox": [
           {
            "marker": {
             "colorbar": {
              "outlinewidth": 0,
              "ticks": ""
             }
            },
            "type": "scattermapbox"
           }
          ],
          "scatterpolar": [
           {
            "marker": {
             "colorbar": {
              "outlinewidth": 0,
              "ticks": ""
             }
            },
            "type": "scatterpolar"
           }
          ],
          "scatterpolargl": [
           {
            "marker": {
             "colorbar": {
              "outlinewidth": 0,
              "ticks": ""
             }
            },
            "type": "scatterpolargl"
           }
          ],
          "scatterternary": [
           {
            "marker": {
             "colorbar": {
              "outlinewidth": 0,
              "ticks": ""
             }
            },
            "type": "scatterternary"
           }
          ],
          "surface": [
           {
            "colorbar": {
             "outlinewidth": 0,
             "ticks": ""
            },
            "colorscale": [
             [
              0,
              "#0d0887"
             ],
             [
              0.1111111111111111,
              "#46039f"
             ],
             [
              0.2222222222222222,
              "#7201a8"
             ],
             [
              0.3333333333333333,
              "#9c179e"
             ],
             [
              0.4444444444444444,
              "#bd3786"
             ],
             [
              0.5555555555555556,
              "#d8576b"
             ],
             [
              0.6666666666666666,
              "#ed7953"
             ],
             [
              0.7777777777777778,
              "#fb9f3a"
             ],
             [
              0.8888888888888888,
              "#fdca26"
             ],
             [
              1,
              "#f0f921"
             ]
            ],
            "type": "surface"
           }
          ],
          "table": [
           {
            "cells": {
             "fill": {
              "color": "#EBF0F8"
             },
             "line": {
              "color": "white"
             }
            },
            "header": {
             "fill": {
              "color": "#C8D4E3"
             },
             "line": {
              "color": "white"
             }
            },
            "type": "table"
           }
          ]
         },
         "layout": {
          "annotationdefaults": {
           "arrowcolor": "#2a3f5f",
           "arrowhead": 0,
           "arrowwidth": 1
          },
          "autotypenumbers": "strict",
          "coloraxis": {
           "colorbar": {
            "outlinewidth": 0,
            "ticks": ""
           }
          },
          "colorscale": {
           "diverging": [
            [
             0,
             "#8e0152"
            ],
            [
             0.1,
             "#c51b7d"
            ],
            [
             0.2,
             "#de77ae"
            ],
            [
             0.3,
             "#f1b6da"
            ],
            [
             0.4,
             "#fde0ef"
            ],
            [
             0.5,
             "#f7f7f7"
            ],
            [
             0.6,
             "#e6f5d0"
            ],
            [
             0.7,
             "#b8e186"
            ],
            [
             0.8,
             "#7fbc41"
            ],
            [
             0.9,
             "#4d9221"
            ],
            [
             1,
             "#276419"
            ]
           ],
           "sequential": [
            [
             0,
             "#0d0887"
            ],
            [
             0.1111111111111111,
             "#46039f"
            ],
            [
             0.2222222222222222,
             "#7201a8"
            ],
            [
             0.3333333333333333,
             "#9c179e"
            ],
            [
             0.4444444444444444,
             "#bd3786"
            ],
            [
             0.5555555555555556,
             "#d8576b"
            ],
            [
             0.6666666666666666,
             "#ed7953"
            ],
            [
             0.7777777777777778,
             "#fb9f3a"
            ],
            [
             0.8888888888888888,
             "#fdca26"
            ],
            [
             1,
             "#f0f921"
            ]
           ],
           "sequentialminus": [
            [
             0,
             "#0d0887"
            ],
            [
             0.1111111111111111,
             "#46039f"
            ],
            [
             0.2222222222222222,
             "#7201a8"
            ],
            [
             0.3333333333333333,
             "#9c179e"
            ],
            [
             0.4444444444444444,
             "#bd3786"
            ],
            [
             0.5555555555555556,
             "#d8576b"
            ],
            [
             0.6666666666666666,
             "#ed7953"
            ],
            [
             0.7777777777777778,
             "#fb9f3a"
            ],
            [
             0.8888888888888888,
             "#fdca26"
            ],
            [
             1,
             "#f0f921"
            ]
           ]
          },
          "colorway": [
           "#636efa",
           "#EF553B",
           "#00cc96",
           "#ab63fa",
           "#FFA15A",
           "#19d3f3",
           "#FF6692",
           "#B6E880",
           "#FF97FF",
           "#FECB52"
          ],
          "font": {
           "color": "#2a3f5f"
          },
          "geo": {
           "bgcolor": "white",
           "lakecolor": "white",
           "landcolor": "#E5ECF6",
           "showlakes": true,
           "showland": true,
           "subunitcolor": "white"
          },
          "hoverlabel": {
           "align": "left"
          },
          "hovermode": "closest",
          "mapbox": {
           "style": "light"
          },
          "paper_bgcolor": "white",
          "plot_bgcolor": "#E5ECF6",
          "polar": {
           "angularaxis": {
            "gridcolor": "white",
            "linecolor": "white",
            "ticks": ""
           },
           "bgcolor": "#E5ECF6",
           "radialaxis": {
            "gridcolor": "white",
            "linecolor": "white",
            "ticks": ""
           }
          },
          "scene": {
           "xaxis": {
            "backgroundcolor": "#E5ECF6",
            "gridcolor": "white",
            "gridwidth": 2,
            "linecolor": "white",
            "showbackground": true,
            "ticks": "",
            "zerolinecolor": "white"
           },
           "yaxis": {
            "backgroundcolor": "#E5ECF6",
            "gridcolor": "white",
            "gridwidth": 2,
            "linecolor": "white",
            "showbackground": true,
            "ticks": "",
            "zerolinecolor": "white"
           },
           "zaxis": {
            "backgroundcolor": "#E5ECF6",
            "gridcolor": "white",
            "gridwidth": 2,
            "linecolor": "white",
            "showbackground": true,
            "ticks": "",
            "zerolinecolor": "white"
           }
          },
          "shapedefaults": {
           "line": {
            "color": "#2a3f5f"
           }
          },
          "ternary": {
           "aaxis": {
            "gridcolor": "white",
            "linecolor": "white",
            "ticks": ""
           },
           "baxis": {
            "gridcolor": "white",
            "linecolor": "white",
            "ticks": ""
           },
           "bgcolor": "#E5ECF6",
           "caxis": {
            "gridcolor": "white",
            "linecolor": "white",
            "ticks": ""
           }
          },
          "title": {
           "x": 0.05
          },
          "xaxis": {
           "automargin": true,
           "gridcolor": "white",
           "linecolor": "white",
           "ticks": "",
           "title": {
            "standoff": 15
           },
           "zerolinecolor": "white",
           "zerolinewidth": 2
          },
          "yaxis": {
           "automargin": true,
           "gridcolor": "white",
           "linecolor": "white",
           "ticks": "",
           "title": {
            "standoff": 15
           },
           "zerolinecolor": "white",
           "zerolinewidth": 2
          }
         }
        },
        "title": {
         "text": "Change in monthly HDB rental units"
        },
        "xaxis": {
         "anchor": "y",
         "domain": [
          0,
          1
         ],
         "title": {
          "text": "Month"
         }
        },
        "yaxis": {
         "anchor": "x",
         "domain": [
          0,
          1
         ],
         "tickformat": ".1%",
         "title": {
          "text": "Rental Units Change Rate"
         }
        }
       }
      }
     },
     "metadata": {},
     "output_type": "display_data"
    }
   ],
   "source": [
    "# Chart rental units available per month\n",
    "fig_rental_units = px.line(df, x='month', y='rental_units', color='flat_type',\n",
    "                           title='HDB Rental units per month',\n",
    "                           labels={'month': 'Month', 'rental_units': '# of Rental Units', 'flat_type': 'Flat Type'},\n",
    "                           hover_data={'month':False})\n",
    "fig_rental_units.update_layout(yaxis_tickformat=',', hovermode='x unified')\n",
    "fig_rental_units.update_traces(hovertemplate='%{y} units')\n",
    "fig_rental_units.show()\n",
    "\n",
    "# Chart change rate for rental units available\n",
    "fig_rental_units_change = px.bar(df, x='month', y='rental_units_change', color='flat_type',\n",
    "                                 title='Change in monthly HDB rental units',\n",
    "                                 labels={'month': 'Month', 'rental_units_change': 'Rental Units Change Rate', 'flat_type': 'Flat Type'},\n",
    "                                 hover_data={'month':False})\n",
    "fig_rental_units_change.update_layout(yaxis_tickformat='.1%', hovermode='x unified')\n",
    "fig_rental_units_change.update_traces(hovertemplate='%{y} units')\n",
    "fig_rental_units_change.show()"
   ]
  },
  {
   "cell_type": "markdown",
   "metadata": {},
   "source": [
    "With the exception of 1-Room apartments which are rarer in Singapore, we do see the availability or demand for HDB rentals generally stagnating - averaging at about **544** units rented out each month. This could indicate that there is a lack of increasing landlords (i.e. locals unwilling to invest in HDB for rental purposes) or that demand has not changed since 2021."
   ]
  },
  {
   "cell_type": "code",
   "execution_count": 6,
   "metadata": {},
   "outputs": [
    {
     "data": {
      "application/vnd.plotly.v1+json": {
       "config": {
        "plotlyServerURL": "https://plot.ly"
       },
       "data": [
        {
         "hovertemplate": "%{y}",
         "legendgroup": "1-ROOM",
         "line": {
          "color": "#636efa",
          "dash": "solid"
         },
         "marker": {
          "symbol": "circle"
         },
         "mode": "lines",
         "name": "1-ROOM",
         "orientation": "v",
         "showlegend": true,
         "type": "scatter",
         "x": [
          "2021-02-01",
          "2021-03-01",
          "2021-05-01",
          "2021-06-01",
          "2021-08-01",
          "2021-11-01",
          "2021-12-01",
          "2022-02-01",
          "2022-03-01",
          "2022-04-01",
          "2022-05-01",
          "2022-06-01",
          "2022-09-01",
          "2022-11-01",
          "2023-01-01",
          "2023-02-01",
          "2023-03-01",
          "2023-04-01",
          "2023-06-01",
          "2023-10-01",
          "2023-12-01",
          "2024-02-01",
          "2024-03-01",
          "2024-04-01",
          "2024-06-01",
          "2024-07-01",
          "2024-09-01",
          "2024-10-01",
          "2024-11-01"
         ],
         "xaxis": "x",
         "y": [
          1100,
          1400,
          1225,
          1500,
          1400,
          825,
          1300,
          1300,
          1275,
          1650,
          1225,
          1000,
          1600,
          2000,
          1900,
          2000,
          1700,
          1000,
          1825,
          2100,
          1900,
          1200,
          1300,
          1500,
          2150,
          1100,
          1650,
          2000,
          1950
         ],
         "yaxis": "y"
        },
        {
         "hovertemplate": "%{y}",
         "legendgroup": "2-ROOM",
         "line": {
          "color": "#EF553B",
          "dash": "solid"
         },
         "marker": {
          "symbol": "circle"
         },
         "mode": "lines",
         "name": "2-ROOM",
         "orientation": "v",
         "showlegend": true,
         "type": "scatter",
         "x": [
          "2021-01-01",
          "2021-02-01",
          "2021-03-01",
          "2021-04-01",
          "2021-05-01",
          "2021-06-01",
          "2021-07-01",
          "2021-08-01",
          "2021-09-01",
          "2021-10-01",
          "2021-11-01",
          "2021-12-01",
          "2022-01-01",
          "2022-02-01",
          "2022-03-01",
          "2022-04-01",
          "2022-05-01",
          "2022-06-01",
          "2022-07-01",
          "2022-08-01",
          "2022-09-01",
          "2022-10-01",
          "2022-11-01",
          "2022-12-01",
          "2023-01-01",
          "2023-02-01",
          "2023-03-01",
          "2023-04-01",
          "2023-05-01",
          "2023-06-01",
          "2023-07-01",
          "2023-08-01",
          "2023-09-01",
          "2023-10-01",
          "2023-11-01",
          "2023-12-01",
          "2024-01-01",
          "2024-02-01",
          "2024-03-01",
          "2024-04-01",
          "2024-05-01",
          "2024-06-01",
          "2024-07-01",
          "2024-08-01",
          "2024-09-01",
          "2024-10-01",
          "2024-11-01"
         ],
         "xaxis": "x",
         "y": [
          1435.29,
          1332.35,
          1464.58,
          1398.89,
          1419.57,
          1443.48,
          1461.4,
          1475,
          1455.38,
          1570.09,
          1560.81,
          1586.36,
          1569.45,
          1563.44,
          1627.21,
          1521,
          1781.58,
          1675,
          1680,
          1742.5,
          1858.77,
          1823.54,
          1999.18,
          2125,
          2161.8,
          2056.67,
          2027.7,
          2187.25,
          2186.11,
          2205.54,
          2287.21,
          2213.52,
          2099.68,
          2176.19,
          2087.5,
          2074.05,
          2260.81,
          2120.24,
          2191.4,
          2136.63,
          2157.75,
          2239.51,
          2158.05,
          2228.06,
          2249.2,
          2176.44,
          2245.87
         ],
         "yaxis": "y"
        },
        {
         "hovertemplate": "%{y}",
         "legendgroup": "3-ROOM",
         "line": {
          "color": "#00cc96",
          "dash": "solid"
         },
         "marker": {
          "symbol": "circle"
         },
         "mode": "lines",
         "name": "3-ROOM",
         "orientation": "v",
         "showlegend": true,
         "type": "scatter",
         "x": [
          "2021-01-01",
          "2021-02-01",
          "2021-03-01",
          "2021-04-01",
          "2021-05-01",
          "2021-06-01",
          "2021-07-01",
          "2021-08-01",
          "2021-09-01",
          "2021-10-01",
          "2021-11-01",
          "2021-12-01",
          "2022-01-01",
          "2022-02-01",
          "2022-03-01",
          "2022-04-01",
          "2022-05-01",
          "2022-06-01",
          "2022-07-01",
          "2022-08-01",
          "2022-09-01",
          "2022-10-01",
          "2022-11-01",
          "2022-12-01",
          "2023-01-01",
          "2023-02-01",
          "2023-03-01",
          "2023-04-01",
          "2023-05-01",
          "2023-06-01",
          "2023-07-01",
          "2023-08-01",
          "2023-09-01",
          "2023-10-01",
          "2023-11-01",
          "2023-12-01",
          "2024-01-01",
          "2024-02-01",
          "2024-03-01",
          "2024-04-01",
          "2024-05-01",
          "2024-06-01",
          "2024-07-01",
          "2024-08-01",
          "2024-09-01",
          "2024-10-01",
          "2024-11-01"
         ],
         "xaxis": "x",
         "y": [
          1810.25,
          1843.79,
          1830.14,
          1849.7,
          1852.64,
          1875.03,
          1890.41,
          1896.17,
          1891.34,
          1906.44,
          1954.75,
          1994.41,
          2000.42,
          2030.92,
          2073.08,
          2078.46,
          2117.56,
          2168.25,
          2265.96,
          2324.46,
          2378.87,
          2418.4,
          2518.08,
          2536.81,
          2520.04,
          2588.95,
          2599.36,
          2622.4,
          2601.32,
          2678.57,
          2710.36,
          2652.41,
          2689.58,
          2685.86,
          2696.76,
          2707.31,
          2666.49,
          2685.6,
          2688.65,
          2697.81,
          2673.77,
          2677.95,
          2718.46,
          2723.83,
          2708.48,
          2760.93,
          2761.38
         ],
         "yaxis": "y"
        },
        {
         "hovertemplate": "%{y}",
         "legendgroup": "4-ROOM",
         "line": {
          "color": "#ab63fa",
          "dash": "solid"
         },
         "marker": {
          "symbol": "circle"
         },
         "mode": "lines",
         "name": "4-ROOM",
         "orientation": "v",
         "showlegend": true,
         "type": "scatter",
         "x": [
          "2021-01-01",
          "2021-02-01",
          "2021-03-01",
          "2021-04-01",
          "2021-05-01",
          "2021-06-01",
          "2021-07-01",
          "2021-08-01",
          "2021-09-01",
          "2021-10-01",
          "2021-11-01",
          "2021-12-01",
          "2022-01-01",
          "2022-02-01",
          "2022-03-01",
          "2022-04-01",
          "2022-05-01",
          "2022-06-01",
          "2022-07-01",
          "2022-08-01",
          "2022-09-01",
          "2022-10-01",
          "2022-11-01",
          "2022-12-01",
          "2023-01-01",
          "2023-02-01",
          "2023-03-01",
          "2023-04-01",
          "2023-05-01",
          "2023-06-01",
          "2023-07-01",
          "2023-08-01",
          "2023-09-01",
          "2023-10-01",
          "2023-11-01",
          "2023-12-01",
          "2024-01-01",
          "2024-02-01",
          "2024-03-01",
          "2024-04-01",
          "2024-05-01",
          "2024-06-01",
          "2024-07-01",
          "2024-08-01",
          "2024-09-01",
          "2024-10-01",
          "2024-11-01"
         ],
         "xaxis": "x",
         "y": [
          2132.58,
          2101.52,
          2135.96,
          2165.12,
          2178.65,
          2204.77,
          2237.01,
          2219.1,
          2209,
          2235.29,
          2264.72,
          2284.6,
          2325.72,
          2375.42,
          2396.74,
          2405.81,
          2508.35,
          2567.69,
          2692.42,
          2733.15,
          2773.01,
          2930.27,
          2969.62,
          3051.71,
          3066.01,
          3073.86,
          3046.72,
          3149.47,
          3191.72,
          3187.74,
          3263.16,
          3225.45,
          3163.92,
          3197.52,
          3200.76,
          3208.03,
          3207.36,
          3195.82,
          3259.8,
          3215.47,
          3254.82,
          3282.28,
          3308.21,
          3274.34,
          3228.34,
          3264.6,
          3304.33
         ],
         "yaxis": "y"
        },
        {
         "hovertemplate": "%{y}",
         "legendgroup": "5-ROOM",
         "line": {
          "color": "#FFA15A",
          "dash": "solid"
         },
         "marker": {
          "symbol": "circle"
         },
         "mode": "lines",
         "name": "5-ROOM",
         "orientation": "v",
         "showlegend": true,
         "type": "scatter",
         "x": [
          "2021-01-01",
          "2021-02-01",
          "2021-03-01",
          "2021-04-01",
          "2021-05-01",
          "2021-06-01",
          "2021-07-01",
          "2021-08-01",
          "2021-09-01",
          "2021-10-01",
          "2021-11-01",
          "2021-12-01",
          "2022-01-01",
          "2022-02-01",
          "2022-03-01",
          "2022-04-01",
          "2022-05-01",
          "2022-06-01",
          "2022-07-01",
          "2022-08-01",
          "2022-09-01",
          "2022-10-01",
          "2022-11-01",
          "2022-12-01",
          "2023-01-01",
          "2023-02-01",
          "2023-03-01",
          "2023-04-01",
          "2023-05-01",
          "2023-06-01",
          "2023-07-01",
          "2023-08-01",
          "2023-09-01",
          "2023-10-01",
          "2023-11-01",
          "2023-12-01",
          "2024-01-01",
          "2024-02-01",
          "2024-03-01",
          "2024-04-01",
          "2024-05-01",
          "2024-06-01",
          "2024-07-01",
          "2024-08-01",
          "2024-09-01",
          "2024-10-01",
          "2024-11-01"
         ],
         "xaxis": "x",
         "y": [
          2216.6,
          2210.68,
          2229.12,
          2240.17,
          2295.84,
          2315.66,
          2327.21,
          2338.57,
          2309.41,
          2322.76,
          2376.01,
          2432.59,
          2458.61,
          2500.91,
          2551.13,
          2528.67,
          2619.79,
          2700.88,
          2785.16,
          2869.28,
          2914.62,
          3050.07,
          3108.69,
          3251.81,
          3234.77,
          3325.4,
          3273.38,
          3330.57,
          3356.93,
          3366.31,
          3434.87,
          3439.44,
          3393.29,
          3369.34,
          3445.23,
          3454,
          3377.89,
          3425.62,
          3435.76,
          3427.54,
          3457.82,
          3440.56,
          3559.28,
          3489.34,
          3471.64,
          3456.84,
          3460.96
         ],
         "yaxis": "y"
        },
        {
         "hovertemplate": "%{y}",
         "legendgroup": "EXECUTIVE",
         "line": {
          "color": "#19d3f3",
          "dash": "solid"
         },
         "marker": {
          "symbol": "circle"
         },
         "mode": "lines",
         "name": "EXECUTIVE",
         "orientation": "v",
         "showlegend": true,
         "type": "scatter",
         "x": [
          "2021-01-01",
          "2021-02-01",
          "2021-03-01",
          "2021-04-01",
          "2021-05-01",
          "2021-06-01",
          "2021-07-01",
          "2021-08-01",
          "2021-09-01",
          "2021-10-01",
          "2021-11-01",
          "2021-12-01",
          "2022-01-01",
          "2022-02-01",
          "2022-03-01",
          "2022-04-01",
          "2022-05-01",
          "2022-06-01",
          "2022-07-01",
          "2022-08-01",
          "2022-09-01",
          "2022-10-01",
          "2022-11-01",
          "2022-12-01",
          "2023-01-01",
          "2023-02-01",
          "2023-03-01",
          "2023-04-01",
          "2023-05-01",
          "2023-06-01",
          "2023-07-01",
          "2023-08-01",
          "2023-09-01",
          "2023-10-01",
          "2023-11-01",
          "2023-12-01",
          "2024-01-01",
          "2024-02-01",
          "2024-03-01",
          "2024-04-01",
          "2024-05-01",
          "2024-06-01",
          "2024-07-01",
          "2024-08-01",
          "2024-09-01",
          "2024-10-01",
          "2024-11-01"
         ],
         "xaxis": "x",
         "y": [
          2295.62,
          2276.39,
          2323.19,
          2306.87,
          2328.85,
          2362.08,
          2374.45,
          2383.19,
          2433.43,
          2442.04,
          2408.46,
          2473.12,
          2501.42,
          2513.05,
          2685.68,
          2689.09,
          2677.63,
          2794.93,
          2859.3,
          2981.34,
          3089.08,
          3182.76,
          3251.95,
          3206.01,
          3308.65,
          3296.4,
          3455.17,
          3371.11,
          3451.48,
          3568.19,
          3553.99,
          3523.69,
          3499.01,
          3572.41,
          3558.32,
          3479.67,
          3543.28,
          3545.17,
          3582.9,
          3577.83,
          3563.91,
          3575.51,
          3705.01,
          3692.1,
          3667.32,
          3647.38,
          3632.71
         ],
         "yaxis": "y"
        }
       ],
       "layout": {
        "hovermode": "x unified",
        "legend": {
         "title": {
          "text": "Flat Type"
         },
         "tracegroupgap": 0
        },
        "template": {
         "data": {
          "bar": [
           {
            "error_x": {
             "color": "#2a3f5f"
            },
            "error_y": {
             "color": "#2a3f5f"
            },
            "marker": {
             "line": {
              "color": "#E5ECF6",
              "width": 0.5
             },
             "pattern": {
              "fillmode": "overlay",
              "size": 10,
              "solidity": 0.2
             }
            },
            "type": "bar"
           }
          ],
          "barpolar": [
           {
            "marker": {
             "line": {
              "color": "#E5ECF6",
              "width": 0.5
             },
             "pattern": {
              "fillmode": "overlay",
              "size": 10,
              "solidity": 0.2
             }
            },
            "type": "barpolar"
           }
          ],
          "carpet": [
           {
            "aaxis": {
             "endlinecolor": "#2a3f5f",
             "gridcolor": "white",
             "linecolor": "white",
             "minorgridcolor": "white",
             "startlinecolor": "#2a3f5f"
            },
            "baxis": {
             "endlinecolor": "#2a3f5f",
             "gridcolor": "white",
             "linecolor": "white",
             "minorgridcolor": "white",
             "startlinecolor": "#2a3f5f"
            },
            "type": "carpet"
           }
          ],
          "choropleth": [
           {
            "colorbar": {
             "outlinewidth": 0,
             "ticks": ""
            },
            "type": "choropleth"
           }
          ],
          "contour": [
           {
            "colorbar": {
             "outlinewidth": 0,
             "ticks": ""
            },
            "colorscale": [
             [
              0,
              "#0d0887"
             ],
             [
              0.1111111111111111,
              "#46039f"
             ],
             [
              0.2222222222222222,
              "#7201a8"
             ],
             [
              0.3333333333333333,
              "#9c179e"
             ],
             [
              0.4444444444444444,
              "#bd3786"
             ],
             [
              0.5555555555555556,
              "#d8576b"
             ],
             [
              0.6666666666666666,
              "#ed7953"
             ],
             [
              0.7777777777777778,
              "#fb9f3a"
             ],
             [
              0.8888888888888888,
              "#fdca26"
             ],
             [
              1,
              "#f0f921"
             ]
            ],
            "type": "contour"
           }
          ],
          "contourcarpet": [
           {
            "colorbar": {
             "outlinewidth": 0,
             "ticks": ""
            },
            "type": "contourcarpet"
           }
          ],
          "heatmap": [
           {
            "colorbar": {
             "outlinewidth": 0,
             "ticks": ""
            },
            "colorscale": [
             [
              0,
              "#0d0887"
             ],
             [
              0.1111111111111111,
              "#46039f"
             ],
             [
              0.2222222222222222,
              "#7201a8"
             ],
             [
              0.3333333333333333,
              "#9c179e"
             ],
             [
              0.4444444444444444,
              "#bd3786"
             ],
             [
              0.5555555555555556,
              "#d8576b"
             ],
             [
              0.6666666666666666,
              "#ed7953"
             ],
             [
              0.7777777777777778,
              "#fb9f3a"
             ],
             [
              0.8888888888888888,
              "#fdca26"
             ],
             [
              1,
              "#f0f921"
             ]
            ],
            "type": "heatmap"
           }
          ],
          "heatmapgl": [
           {
            "colorbar": {
             "outlinewidth": 0,
             "ticks": ""
            },
            "colorscale": [
             [
              0,
              "#0d0887"
             ],
             [
              0.1111111111111111,
              "#46039f"
             ],
             [
              0.2222222222222222,
              "#7201a8"
             ],
             [
              0.3333333333333333,
              "#9c179e"
             ],
             [
              0.4444444444444444,
              "#bd3786"
             ],
             [
              0.5555555555555556,
              "#d8576b"
             ],
             [
              0.6666666666666666,
              "#ed7953"
             ],
             [
              0.7777777777777778,
              "#fb9f3a"
             ],
             [
              0.8888888888888888,
              "#fdca26"
             ],
             [
              1,
              "#f0f921"
             ]
            ],
            "type": "heatmapgl"
           }
          ],
          "histogram": [
           {
            "marker": {
             "pattern": {
              "fillmode": "overlay",
              "size": 10,
              "solidity": 0.2
             }
            },
            "type": "histogram"
           }
          ],
          "histogram2d": [
           {
            "colorbar": {
             "outlinewidth": 0,
             "ticks": ""
            },
            "colorscale": [
             [
              0,
              "#0d0887"
             ],
             [
              0.1111111111111111,
              "#46039f"
             ],
             [
              0.2222222222222222,
              "#7201a8"
             ],
             [
              0.3333333333333333,
              "#9c179e"
             ],
             [
              0.4444444444444444,
              "#bd3786"
             ],
             [
              0.5555555555555556,
              "#d8576b"
             ],
             [
              0.6666666666666666,
              "#ed7953"
             ],
             [
              0.7777777777777778,
              "#fb9f3a"
             ],
             [
              0.8888888888888888,
              "#fdca26"
             ],
             [
              1,
              "#f0f921"
             ]
            ],
            "type": "histogram2d"
           }
          ],
          "histogram2dcontour": [
           {
            "colorbar": {
             "outlinewidth": 0,
             "ticks": ""
            },
            "colorscale": [
             [
              0,
              "#0d0887"
             ],
             [
              0.1111111111111111,
              "#46039f"
             ],
             [
              0.2222222222222222,
              "#7201a8"
             ],
             [
              0.3333333333333333,
              "#9c179e"
             ],
             [
              0.4444444444444444,
              "#bd3786"
             ],
             [
              0.5555555555555556,
              "#d8576b"
             ],
             [
              0.6666666666666666,
              "#ed7953"
             ],
             [
              0.7777777777777778,
              "#fb9f3a"
             ],
             [
              0.8888888888888888,
              "#fdca26"
             ],
             [
              1,
              "#f0f921"
             ]
            ],
            "type": "histogram2dcontour"
           }
          ],
          "mesh3d": [
           {
            "colorbar": {
             "outlinewidth": 0,
             "ticks": ""
            },
            "type": "mesh3d"
           }
          ],
          "parcoords": [
           {
            "line": {
             "colorbar": {
              "outlinewidth": 0,
              "ticks": ""
             }
            },
            "type": "parcoords"
           }
          ],
          "pie": [
           {
            "automargin": true,
            "type": "pie"
           }
          ],
          "scatter": [
           {
            "fillpattern": {
             "fillmode": "overlay",
             "size": 10,
             "solidity": 0.2
            },
            "type": "scatter"
           }
          ],
          "scatter3d": [
           {
            "line": {
             "colorbar": {
              "outlinewidth": 0,
              "ticks": ""
             }
            },
            "marker": {
             "colorbar": {
              "outlinewidth": 0,
              "ticks": ""
             }
            },
            "type": "scatter3d"
           }
          ],
          "scattercarpet": [
           {
            "marker": {
             "colorbar": {
              "outlinewidth": 0,
              "ticks": ""
             }
            },
            "type": "scattercarpet"
           }
          ],
          "scattergeo": [
           {
            "marker": {
             "colorbar": {
              "outlinewidth": 0,
              "ticks": ""
             }
            },
            "type": "scattergeo"
           }
          ],
          "scattergl": [
           {
            "marker": {
             "colorbar": {
              "outlinewidth": 0,
              "ticks": ""
             }
            },
            "type": "scattergl"
           }
          ],
          "scattermapbox": [
           {
            "marker": {
             "colorbar": {
              "outlinewidth": 0,
              "ticks": ""
             }
            },
            "type": "scattermapbox"
           }
          ],
          "scatterpolar": [
           {
            "marker": {
             "colorbar": {
              "outlinewidth": 0,
              "ticks": ""
             }
            },
            "type": "scatterpolar"
           }
          ],
          "scatterpolargl": [
           {
            "marker": {
             "colorbar": {
              "outlinewidth": 0,
              "ticks": ""
             }
            },
            "type": "scatterpolargl"
           }
          ],
          "scatterternary": [
           {
            "marker": {
             "colorbar": {
              "outlinewidth": 0,
              "ticks": ""
             }
            },
            "type": "scatterternary"
           }
          ],
          "surface": [
           {
            "colorbar": {
             "outlinewidth": 0,
             "ticks": ""
            },
            "colorscale": [
             [
              0,
              "#0d0887"
             ],
             [
              0.1111111111111111,
              "#46039f"
             ],
             [
              0.2222222222222222,
              "#7201a8"
             ],
             [
              0.3333333333333333,
              "#9c179e"
             ],
             [
              0.4444444444444444,
              "#bd3786"
             ],
             [
              0.5555555555555556,
              "#d8576b"
             ],
             [
              0.6666666666666666,
              "#ed7953"
             ],
             [
              0.7777777777777778,
              "#fb9f3a"
             ],
             [
              0.8888888888888888,
              "#fdca26"
             ],
             [
              1,
              "#f0f921"
             ]
            ],
            "type": "surface"
           }
          ],
          "table": [
           {
            "cells": {
             "fill": {
              "color": "#EBF0F8"
             },
             "line": {
              "color": "white"
             }
            },
            "header": {
             "fill": {
              "color": "#C8D4E3"
             },
             "line": {
              "color": "white"
             }
            },
            "type": "table"
           }
          ]
         },
         "layout": {
          "annotationdefaults": {
           "arrowcolor": "#2a3f5f",
           "arrowhead": 0,
           "arrowwidth": 1
          },
          "autotypenumbers": "strict",
          "coloraxis": {
           "colorbar": {
            "outlinewidth": 0,
            "ticks": ""
           }
          },
          "colorscale": {
           "diverging": [
            [
             0,
             "#8e0152"
            ],
            [
             0.1,
             "#c51b7d"
            ],
            [
             0.2,
             "#de77ae"
            ],
            [
             0.3,
             "#f1b6da"
            ],
            [
             0.4,
             "#fde0ef"
            ],
            [
             0.5,
             "#f7f7f7"
            ],
            [
             0.6,
             "#e6f5d0"
            ],
            [
             0.7,
             "#b8e186"
            ],
            [
             0.8,
             "#7fbc41"
            ],
            [
             0.9,
             "#4d9221"
            ],
            [
             1,
             "#276419"
            ]
           ],
           "sequential": [
            [
             0,
             "#0d0887"
            ],
            [
             0.1111111111111111,
             "#46039f"
            ],
            [
             0.2222222222222222,
             "#7201a8"
            ],
            [
             0.3333333333333333,
             "#9c179e"
            ],
            [
             0.4444444444444444,
             "#bd3786"
            ],
            [
             0.5555555555555556,
             "#d8576b"
            ],
            [
             0.6666666666666666,
             "#ed7953"
            ],
            [
             0.7777777777777778,
             "#fb9f3a"
            ],
            [
             0.8888888888888888,
             "#fdca26"
            ],
            [
             1,
             "#f0f921"
            ]
           ],
           "sequentialminus": [
            [
             0,
             "#0d0887"
            ],
            [
             0.1111111111111111,
             "#46039f"
            ],
            [
             0.2222222222222222,
             "#7201a8"
            ],
            [
             0.3333333333333333,
             "#9c179e"
            ],
            [
             0.4444444444444444,
             "#bd3786"
            ],
            [
             0.5555555555555556,
             "#d8576b"
            ],
            [
             0.6666666666666666,
             "#ed7953"
            ],
            [
             0.7777777777777778,
             "#fb9f3a"
            ],
            [
             0.8888888888888888,
             "#fdca26"
            ],
            [
             1,
             "#f0f921"
            ]
           ]
          },
          "colorway": [
           "#636efa",
           "#EF553B",
           "#00cc96",
           "#ab63fa",
           "#FFA15A",
           "#19d3f3",
           "#FF6692",
           "#B6E880",
           "#FF97FF",
           "#FECB52"
          ],
          "font": {
           "color": "#2a3f5f"
          },
          "geo": {
           "bgcolor": "white",
           "lakecolor": "white",
           "landcolor": "#E5ECF6",
           "showlakes": true,
           "showland": true,
           "subunitcolor": "white"
          },
          "hoverlabel": {
           "align": "left"
          },
          "hovermode": "closest",
          "mapbox": {
           "style": "light"
          },
          "paper_bgcolor": "white",
          "plot_bgcolor": "#E5ECF6",
          "polar": {
           "angularaxis": {
            "gridcolor": "white",
            "linecolor": "white",
            "ticks": ""
           },
           "bgcolor": "#E5ECF6",
           "radialaxis": {
            "gridcolor": "white",
            "linecolor": "white",
            "ticks": ""
           }
          },
          "scene": {
           "xaxis": {
            "backgroundcolor": "#E5ECF6",
            "gridcolor": "white",
            "gridwidth": 2,
            "linecolor": "white",
            "showbackground": true,
            "ticks": "",
            "zerolinecolor": "white"
           },
           "yaxis": {
            "backgroundcolor": "#E5ECF6",
            "gridcolor": "white",
            "gridwidth": 2,
            "linecolor": "white",
            "showbackground": true,
            "ticks": "",
            "zerolinecolor": "white"
           },
           "zaxis": {
            "backgroundcolor": "#E5ECF6",
            "gridcolor": "white",
            "gridwidth": 2,
            "linecolor": "white",
            "showbackground": true,
            "ticks": "",
            "zerolinecolor": "white"
           }
          },
          "shapedefaults": {
           "line": {
            "color": "#2a3f5f"
           }
          },
          "ternary": {
           "aaxis": {
            "gridcolor": "white",
            "linecolor": "white",
            "ticks": ""
           },
           "baxis": {
            "gridcolor": "white",
            "linecolor": "white",
            "ticks": ""
           },
           "bgcolor": "#E5ECF6",
           "caxis": {
            "gridcolor": "white",
            "linecolor": "white",
            "ticks": ""
           }
          },
          "title": {
           "x": 0.05
          },
          "xaxis": {
           "automargin": true,
           "gridcolor": "white",
           "linecolor": "white",
           "ticks": "",
           "title": {
            "standoff": 15
           },
           "zerolinecolor": "white",
           "zerolinewidth": 2
          },
          "yaxis": {
           "automargin": true,
           "gridcolor": "white",
           "linecolor": "white",
           "ticks": "",
           "title": {
            "standoff": 15
           },
           "zerolinecolor": "white",
           "zerolinewidth": 2
          }
         }
        },
        "title": {
         "text": "Avg. monthly rent for HDB units by Type"
        },
        "xaxis": {
         "anchor": "y",
         "domain": [
          0,
          1
         ],
         "title": {
          "text": "Month"
         }
        },
        "yaxis": {
         "anchor": "x",
         "domain": [
          0,
          1
         ],
         "tickformat": "$,.2f",
         "title": {
          "text": "Avg. Monthly Rent"
         }
        }
       }
      }
     },
     "metadata": {},
     "output_type": "display_data"
    },
    {
     "data": {
      "application/vnd.plotly.v1+json": {
       "config": {
        "plotlyServerURL": "https://plot.ly"
       },
       "data": [
        {
         "alignmentgroup": "True",
         "hovertemplate": "%{y}",
         "legendgroup": "1-ROOM",
         "marker": {
          "color": "#636efa",
          "pattern": {
           "shape": ""
          }
         },
         "name": "1-ROOM",
         "offsetgroup": "1-ROOM",
         "orientation": "v",
         "showlegend": true,
         "textposition": "auto",
         "type": "bar",
         "x": [
          "2021-02-01",
          "2021-03-01",
          "2021-05-01",
          "2021-06-01",
          "2021-08-01",
          "2021-11-01",
          "2021-12-01",
          "2022-02-01",
          "2022-03-01",
          "2022-04-01",
          "2022-05-01",
          "2022-06-01",
          "2022-09-01",
          "2022-11-01",
          "2023-01-01",
          "2023-02-01",
          "2023-03-01",
          "2023-04-01",
          "2023-06-01",
          "2023-10-01",
          "2023-12-01",
          "2024-02-01",
          "2024-03-01",
          "2024-04-01",
          "2024-06-01",
          "2024-07-01",
          "2024-09-01",
          "2024-10-01",
          "2024-11-01"
         ],
         "xaxis": "x",
         "y": [
          null,
          0.27,
          -0.13,
          0.22,
          -0.07,
          -0.41,
          0.58,
          0,
          -0.02,
          0.29,
          -0.26,
          -0.18,
          0.6,
          0.25,
          -0.05,
          0.05,
          -0.15,
          -0.41,
          0.82,
          0.15,
          -0.1,
          -0.37,
          0.08,
          0.15,
          0.43,
          -0.49,
          0.5,
          0.21,
          -0.03
         ],
         "yaxis": "y"
        },
        {
         "alignmentgroup": "True",
         "hovertemplate": "%{y}",
         "legendgroup": "2-ROOM",
         "marker": {
          "color": "#EF553B",
          "pattern": {
           "shape": ""
          }
         },
         "name": "2-ROOM",
         "offsetgroup": "2-ROOM",
         "orientation": "v",
         "showlegend": true,
         "textposition": "auto",
         "type": "bar",
         "x": [
          "2021-01-01",
          "2021-02-01",
          "2021-03-01",
          "2021-04-01",
          "2021-05-01",
          "2021-06-01",
          "2021-07-01",
          "2021-08-01",
          "2021-09-01",
          "2021-10-01",
          "2021-11-01",
          "2021-12-01",
          "2022-01-01",
          "2022-02-01",
          "2022-03-01",
          "2022-04-01",
          "2022-05-01",
          "2022-06-01",
          "2022-07-01",
          "2022-08-01",
          "2022-09-01",
          "2022-10-01",
          "2022-11-01",
          "2022-12-01",
          "2023-01-01",
          "2023-02-01",
          "2023-03-01",
          "2023-04-01",
          "2023-05-01",
          "2023-06-01",
          "2023-07-01",
          "2023-08-01",
          "2023-09-01",
          "2023-10-01",
          "2023-11-01",
          "2023-12-01",
          "2024-01-01",
          "2024-02-01",
          "2024-03-01",
          "2024-04-01",
          "2024-05-01",
          "2024-06-01",
          "2024-07-01",
          "2024-08-01",
          "2024-09-01",
          "2024-10-01",
          "2024-11-01"
         ],
         "xaxis": "x",
         "y": [
          null,
          -0.07,
          0.1,
          -0.04,
          0.01,
          0.02,
          0.01,
          0.01,
          -0.01,
          0.08,
          -0.01,
          0.02,
          -0.01,
          0,
          0.04,
          -0.07,
          0.17,
          -0.06,
          0,
          0.04,
          0.07,
          -0.02,
          0.1,
          0.06,
          0.02,
          -0.05,
          -0.01,
          0.08,
          0,
          0.01,
          0.04,
          -0.03,
          -0.05,
          0.04,
          -0.04,
          -0.01,
          0.09,
          -0.06,
          0.03,
          -0.02,
          0.01,
          0.04,
          -0.04,
          0.03,
          0.01,
          -0.03,
          0.03
         ],
         "yaxis": "y"
        },
        {
         "alignmentgroup": "True",
         "hovertemplate": "%{y}",
         "legendgroup": "3-ROOM",
         "marker": {
          "color": "#00cc96",
          "pattern": {
           "shape": ""
          }
         },
         "name": "3-ROOM",
         "offsetgroup": "3-ROOM",
         "orientation": "v",
         "showlegend": true,
         "textposition": "auto",
         "type": "bar",
         "x": [
          "2021-01-01",
          "2021-02-01",
          "2021-03-01",
          "2021-04-01",
          "2021-05-01",
          "2021-06-01",
          "2021-07-01",
          "2021-08-01",
          "2021-09-01",
          "2021-10-01",
          "2021-11-01",
          "2021-12-01",
          "2022-01-01",
          "2022-02-01",
          "2022-03-01",
          "2022-04-01",
          "2022-05-01",
          "2022-06-01",
          "2022-07-01",
          "2022-08-01",
          "2022-09-01",
          "2022-10-01",
          "2022-11-01",
          "2022-12-01",
          "2023-01-01",
          "2023-02-01",
          "2023-03-01",
          "2023-04-01",
          "2023-05-01",
          "2023-06-01",
          "2023-07-01",
          "2023-08-01",
          "2023-09-01",
          "2023-10-01",
          "2023-11-01",
          "2023-12-01",
          "2024-01-01",
          "2024-02-01",
          "2024-03-01",
          "2024-04-01",
          "2024-05-01",
          "2024-06-01",
          "2024-07-01",
          "2024-08-01",
          "2024-09-01",
          "2024-10-01",
          "2024-11-01"
         ],
         "xaxis": "x",
         "y": [
          null,
          0.02,
          -0.01,
          0.01,
          0,
          0.01,
          0.01,
          0,
          0,
          0.01,
          0.03,
          0.02,
          0,
          0.02,
          0.02,
          0,
          0.02,
          0.02,
          0.05,
          0.03,
          0.02,
          0.02,
          0.04,
          0.01,
          -0.01,
          0.03,
          0,
          0.01,
          -0.01,
          0.03,
          0.01,
          -0.02,
          0.01,
          0,
          0,
          0,
          -0.02,
          0.01,
          0,
          0,
          -0.01,
          0,
          0.02,
          0,
          -0.01,
          0.02,
          0
         ],
         "yaxis": "y"
        },
        {
         "alignmentgroup": "True",
         "hovertemplate": "%{y}",
         "legendgroup": "4-ROOM",
         "marker": {
          "color": "#ab63fa",
          "pattern": {
           "shape": ""
          }
         },
         "name": "4-ROOM",
         "offsetgroup": "4-ROOM",
         "orientation": "v",
         "showlegend": true,
         "textposition": "auto",
         "type": "bar",
         "x": [
          "2021-01-01",
          "2021-02-01",
          "2021-03-01",
          "2021-04-01",
          "2021-05-01",
          "2021-06-01",
          "2021-07-01",
          "2021-08-01",
          "2021-09-01",
          "2021-10-01",
          "2021-11-01",
          "2021-12-01",
          "2022-01-01",
          "2022-02-01",
          "2022-03-01",
          "2022-04-01",
          "2022-05-01",
          "2022-06-01",
          "2022-07-01",
          "2022-08-01",
          "2022-09-01",
          "2022-10-01",
          "2022-11-01",
          "2022-12-01",
          "2023-01-01",
          "2023-02-01",
          "2023-03-01",
          "2023-04-01",
          "2023-05-01",
          "2023-06-01",
          "2023-07-01",
          "2023-08-01",
          "2023-09-01",
          "2023-10-01",
          "2023-11-01",
          "2023-12-01",
          "2024-01-01",
          "2024-02-01",
          "2024-03-01",
          "2024-04-01",
          "2024-05-01",
          "2024-06-01",
          "2024-07-01",
          "2024-08-01",
          "2024-09-01",
          "2024-10-01",
          "2024-11-01"
         ],
         "xaxis": "x",
         "y": [
          null,
          -0.01,
          0.02,
          0.01,
          0.01,
          0.01,
          0.01,
          -0.01,
          0,
          0.01,
          0.01,
          0.01,
          0.02,
          0.02,
          0.01,
          0,
          0.04,
          0.02,
          0.05,
          0.02,
          0.01,
          0.06,
          0.01,
          0.03,
          0,
          0,
          -0.01,
          0.03,
          0.01,
          0,
          0.02,
          -0.01,
          -0.02,
          0.01,
          0,
          0,
          0,
          0,
          0.02,
          -0.01,
          0.01,
          0.01,
          0.01,
          -0.01,
          -0.01,
          0.01,
          0.01
         ],
         "yaxis": "y"
        },
        {
         "alignmentgroup": "True",
         "hovertemplate": "%{y}",
         "legendgroup": "5-ROOM",
         "marker": {
          "color": "#FFA15A",
          "pattern": {
           "shape": ""
          }
         },
         "name": "5-ROOM",
         "offsetgroup": "5-ROOM",
         "orientation": "v",
         "showlegend": true,
         "textposition": "auto",
         "type": "bar",
         "x": [
          "2021-01-01",
          "2021-02-01",
          "2021-03-01",
          "2021-04-01",
          "2021-05-01",
          "2021-06-01",
          "2021-07-01",
          "2021-08-01",
          "2021-09-01",
          "2021-10-01",
          "2021-11-01",
          "2021-12-01",
          "2022-01-01",
          "2022-02-01",
          "2022-03-01",
          "2022-04-01",
          "2022-05-01",
          "2022-06-01",
          "2022-07-01",
          "2022-08-01",
          "2022-09-01",
          "2022-10-01",
          "2022-11-01",
          "2022-12-01",
          "2023-01-01",
          "2023-02-01",
          "2023-03-01",
          "2023-04-01",
          "2023-05-01",
          "2023-06-01",
          "2023-07-01",
          "2023-08-01",
          "2023-09-01",
          "2023-10-01",
          "2023-11-01",
          "2023-12-01",
          "2024-01-01",
          "2024-02-01",
          "2024-03-01",
          "2024-04-01",
          "2024-05-01",
          "2024-06-01",
          "2024-07-01",
          "2024-08-01",
          "2024-09-01",
          "2024-10-01",
          "2024-11-01"
         ],
         "xaxis": "x",
         "y": [
          null,
          0,
          0.01,
          0,
          0.02,
          0.01,
          0,
          0,
          -0.01,
          0.01,
          0.02,
          0.02,
          0.01,
          0.02,
          0.02,
          -0.01,
          0.04,
          0.03,
          0.03,
          0.03,
          0.02,
          0.05,
          0.02,
          0.05,
          -0.01,
          0.03,
          -0.02,
          0.02,
          0.01,
          0,
          0.02,
          0,
          -0.01,
          -0.01,
          0.02,
          0,
          -0.02,
          0.01,
          0,
          0,
          0.01,
          0,
          0.03,
          -0.02,
          -0.01,
          0,
          0
         ],
         "yaxis": "y"
        },
        {
         "alignmentgroup": "True",
         "hovertemplate": "%{y}",
         "legendgroup": "EXECUTIVE",
         "marker": {
          "color": "#19d3f3",
          "pattern": {
           "shape": ""
          }
         },
         "name": "EXECUTIVE",
         "offsetgroup": "EXECUTIVE",
         "orientation": "v",
         "showlegend": true,
         "textposition": "auto",
         "type": "bar",
         "x": [
          "2021-01-01",
          "2021-02-01",
          "2021-03-01",
          "2021-04-01",
          "2021-05-01",
          "2021-06-01",
          "2021-07-01",
          "2021-08-01",
          "2021-09-01",
          "2021-10-01",
          "2021-11-01",
          "2021-12-01",
          "2022-01-01",
          "2022-02-01",
          "2022-03-01",
          "2022-04-01",
          "2022-05-01",
          "2022-06-01",
          "2022-07-01",
          "2022-08-01",
          "2022-09-01",
          "2022-10-01",
          "2022-11-01",
          "2022-12-01",
          "2023-01-01",
          "2023-02-01",
          "2023-03-01",
          "2023-04-01",
          "2023-05-01",
          "2023-06-01",
          "2023-07-01",
          "2023-08-01",
          "2023-09-01",
          "2023-10-01",
          "2023-11-01",
          "2023-12-01",
          "2024-01-01",
          "2024-02-01",
          "2024-03-01",
          "2024-04-01",
          "2024-05-01",
          "2024-06-01",
          "2024-07-01",
          "2024-08-01",
          "2024-09-01",
          "2024-10-01",
          "2024-11-01"
         ],
         "xaxis": "x",
         "y": [
          null,
          -0.01,
          0.02,
          -0.01,
          0.01,
          0.01,
          0.01,
          0,
          0.02,
          0,
          -0.01,
          0.03,
          0.01,
          0,
          0.07,
          0,
          0,
          0.04,
          0.02,
          0.04,
          0.04,
          0.03,
          0.02,
          -0.01,
          0.03,
          0,
          0.05,
          -0.02,
          0.02,
          0.03,
          0,
          -0.01,
          -0.01,
          0.02,
          0,
          -0.02,
          0.02,
          0,
          0.01,
          0,
          0,
          0,
          0.04,
          0,
          -0.01,
          -0.01,
          0
         ],
         "yaxis": "y"
        }
       ],
       "layout": {
        "barmode": "relative",
        "hovermode": "x unified",
        "legend": {
         "title": {
          "text": "Flat Type"
         },
         "tracegroupgap": 0
        },
        "template": {
         "data": {
          "bar": [
           {
            "error_x": {
             "color": "#2a3f5f"
            },
            "error_y": {
             "color": "#2a3f5f"
            },
            "marker": {
             "line": {
              "color": "#E5ECF6",
              "width": 0.5
             },
             "pattern": {
              "fillmode": "overlay",
              "size": 10,
              "solidity": 0.2
             }
            },
            "type": "bar"
           }
          ],
          "barpolar": [
           {
            "marker": {
             "line": {
              "color": "#E5ECF6",
              "width": 0.5
             },
             "pattern": {
              "fillmode": "overlay",
              "size": 10,
              "solidity": 0.2
             }
            },
            "type": "barpolar"
           }
          ],
          "carpet": [
           {
            "aaxis": {
             "endlinecolor": "#2a3f5f",
             "gridcolor": "white",
             "linecolor": "white",
             "minorgridcolor": "white",
             "startlinecolor": "#2a3f5f"
            },
            "baxis": {
             "endlinecolor": "#2a3f5f",
             "gridcolor": "white",
             "linecolor": "white",
             "minorgridcolor": "white",
             "startlinecolor": "#2a3f5f"
            },
            "type": "carpet"
           }
          ],
          "choropleth": [
           {
            "colorbar": {
             "outlinewidth": 0,
             "ticks": ""
            },
            "type": "choropleth"
           }
          ],
          "contour": [
           {
            "colorbar": {
             "outlinewidth": 0,
             "ticks": ""
            },
            "colorscale": [
             [
              0,
              "#0d0887"
             ],
             [
              0.1111111111111111,
              "#46039f"
             ],
             [
              0.2222222222222222,
              "#7201a8"
             ],
             [
              0.3333333333333333,
              "#9c179e"
             ],
             [
              0.4444444444444444,
              "#bd3786"
             ],
             [
              0.5555555555555556,
              "#d8576b"
             ],
             [
              0.6666666666666666,
              "#ed7953"
             ],
             [
              0.7777777777777778,
              "#fb9f3a"
             ],
             [
              0.8888888888888888,
              "#fdca26"
             ],
             [
              1,
              "#f0f921"
             ]
            ],
            "type": "contour"
           }
          ],
          "contourcarpet": [
           {
            "colorbar": {
             "outlinewidth": 0,
             "ticks": ""
            },
            "type": "contourcarpet"
           }
          ],
          "heatmap": [
           {
            "colorbar": {
             "outlinewidth": 0,
             "ticks": ""
            },
            "colorscale": [
             [
              0,
              "#0d0887"
             ],
             [
              0.1111111111111111,
              "#46039f"
             ],
             [
              0.2222222222222222,
              "#7201a8"
             ],
             [
              0.3333333333333333,
              "#9c179e"
             ],
             [
              0.4444444444444444,
              "#bd3786"
             ],
             [
              0.5555555555555556,
              "#d8576b"
             ],
             [
              0.6666666666666666,
              "#ed7953"
             ],
             [
              0.7777777777777778,
              "#fb9f3a"
             ],
             [
              0.8888888888888888,
              "#fdca26"
             ],
             [
              1,
              "#f0f921"
             ]
            ],
            "type": "heatmap"
           }
          ],
          "heatmapgl": [
           {
            "colorbar": {
             "outlinewidth": 0,
             "ticks": ""
            },
            "colorscale": [
             [
              0,
              "#0d0887"
             ],
             [
              0.1111111111111111,
              "#46039f"
             ],
             [
              0.2222222222222222,
              "#7201a8"
             ],
             [
              0.3333333333333333,
              "#9c179e"
             ],
             [
              0.4444444444444444,
              "#bd3786"
             ],
             [
              0.5555555555555556,
              "#d8576b"
             ],
             [
              0.6666666666666666,
              "#ed7953"
             ],
             [
              0.7777777777777778,
              "#fb9f3a"
             ],
             [
              0.8888888888888888,
              "#fdca26"
             ],
             [
              1,
              "#f0f921"
             ]
            ],
            "type": "heatmapgl"
           }
          ],
          "histogram": [
           {
            "marker": {
             "pattern": {
              "fillmode": "overlay",
              "size": 10,
              "solidity": 0.2
             }
            },
            "type": "histogram"
           }
          ],
          "histogram2d": [
           {
            "colorbar": {
             "outlinewidth": 0,
             "ticks": ""
            },
            "colorscale": [
             [
              0,
              "#0d0887"
             ],
             [
              0.1111111111111111,
              "#46039f"
             ],
             [
              0.2222222222222222,
              "#7201a8"
             ],
             [
              0.3333333333333333,
              "#9c179e"
             ],
             [
              0.4444444444444444,
              "#bd3786"
             ],
             [
              0.5555555555555556,
              "#d8576b"
             ],
             [
              0.6666666666666666,
              "#ed7953"
             ],
             [
              0.7777777777777778,
              "#fb9f3a"
             ],
             [
              0.8888888888888888,
              "#fdca26"
             ],
             [
              1,
              "#f0f921"
             ]
            ],
            "type": "histogram2d"
           }
          ],
          "histogram2dcontour": [
           {
            "colorbar": {
             "outlinewidth": 0,
             "ticks": ""
            },
            "colorscale": [
             [
              0,
              "#0d0887"
             ],
             [
              0.1111111111111111,
              "#46039f"
             ],
             [
              0.2222222222222222,
              "#7201a8"
             ],
             [
              0.3333333333333333,
              "#9c179e"
             ],
             [
              0.4444444444444444,
              "#bd3786"
             ],
             [
              0.5555555555555556,
              "#d8576b"
             ],
             [
              0.6666666666666666,
              "#ed7953"
             ],
             [
              0.7777777777777778,
              "#fb9f3a"
             ],
             [
              0.8888888888888888,
              "#fdca26"
             ],
             [
              1,
              "#f0f921"
             ]
            ],
            "type": "histogram2dcontour"
           }
          ],
          "mesh3d": [
           {
            "colorbar": {
             "outlinewidth": 0,
             "ticks": ""
            },
            "type": "mesh3d"
           }
          ],
          "parcoords": [
           {
            "line": {
             "colorbar": {
              "outlinewidth": 0,
              "ticks": ""
             }
            },
            "type": "parcoords"
           }
          ],
          "pie": [
           {
            "automargin": true,
            "type": "pie"
           }
          ],
          "scatter": [
           {
            "fillpattern": {
             "fillmode": "overlay",
             "size": 10,
             "solidity": 0.2
            },
            "type": "scatter"
           }
          ],
          "scatter3d": [
           {
            "line": {
             "colorbar": {
              "outlinewidth": 0,
              "ticks": ""
             }
            },
            "marker": {
             "colorbar": {
              "outlinewidth": 0,
              "ticks": ""
             }
            },
            "type": "scatter3d"
           }
          ],
          "scattercarpet": [
           {
            "marker": {
             "colorbar": {
              "outlinewidth": 0,
              "ticks": ""
             }
            },
            "type": "scattercarpet"
           }
          ],
          "scattergeo": [
           {
            "marker": {
             "colorbar": {
              "outlinewidth": 0,
              "ticks": ""
             }
            },
            "type": "scattergeo"
           }
          ],
          "scattergl": [
           {
            "marker": {
             "colorbar": {
              "outlinewidth": 0,
              "ticks": ""
             }
            },
            "type": "scattergl"
           }
          ],
          "scattermapbox": [
           {
            "marker": {
             "colorbar": {
              "outlinewidth": 0,
              "ticks": ""
             }
            },
            "type": "scattermapbox"
           }
          ],
          "scatterpolar": [
           {
            "marker": {
             "colorbar": {
              "outlinewidth": 0,
              "ticks": ""
             }
            },
            "type": "scatterpolar"
           }
          ],
          "scatterpolargl": [
           {
            "marker": {
             "colorbar": {
              "outlinewidth": 0,
              "ticks": ""
             }
            },
            "type": "scatterpolargl"
           }
          ],
          "scatterternary": [
           {
            "marker": {
             "colorbar": {
              "outlinewidth": 0,
              "ticks": ""
             }
            },
            "type": "scatterternary"
           }
          ],
          "surface": [
           {
            "colorbar": {
             "outlinewidth": 0,
             "ticks": ""
            },
            "colorscale": [
             [
              0,
              "#0d0887"
             ],
             [
              0.1111111111111111,
              "#46039f"
             ],
             [
              0.2222222222222222,
              "#7201a8"
             ],
             [
              0.3333333333333333,
              "#9c179e"
             ],
             [
              0.4444444444444444,
              "#bd3786"
             ],
             [
              0.5555555555555556,
              "#d8576b"
             ],
             [
              0.6666666666666666,
              "#ed7953"
             ],
             [
              0.7777777777777778,
              "#fb9f3a"
             ],
             [
              0.8888888888888888,
              "#fdca26"
             ],
             [
              1,
              "#f0f921"
             ]
            ],
            "type": "surface"
           }
          ],
          "table": [
           {
            "cells": {
             "fill": {
              "color": "#EBF0F8"
             },
             "line": {
              "color": "white"
             }
            },
            "header": {
             "fill": {
              "color": "#C8D4E3"
             },
             "line": {
              "color": "white"
             }
            },
            "type": "table"
           }
          ]
         },
         "layout": {
          "annotationdefaults": {
           "arrowcolor": "#2a3f5f",
           "arrowhead": 0,
           "arrowwidth": 1
          },
          "autotypenumbers": "strict",
          "coloraxis": {
           "colorbar": {
            "outlinewidth": 0,
            "ticks": ""
           }
          },
          "colorscale": {
           "diverging": [
            [
             0,
             "#8e0152"
            ],
            [
             0.1,
             "#c51b7d"
            ],
            [
             0.2,
             "#de77ae"
            ],
            [
             0.3,
             "#f1b6da"
            ],
            [
             0.4,
             "#fde0ef"
            ],
            [
             0.5,
             "#f7f7f7"
            ],
            [
             0.6,
             "#e6f5d0"
            ],
            [
             0.7,
             "#b8e186"
            ],
            [
             0.8,
             "#7fbc41"
            ],
            [
             0.9,
             "#4d9221"
            ],
            [
             1,
             "#276419"
            ]
           ],
           "sequential": [
            [
             0,
             "#0d0887"
            ],
            [
             0.1111111111111111,
             "#46039f"
            ],
            [
             0.2222222222222222,
             "#7201a8"
            ],
            [
             0.3333333333333333,
             "#9c179e"
            ],
            [
             0.4444444444444444,
             "#bd3786"
            ],
            [
             0.5555555555555556,
             "#d8576b"
            ],
            [
             0.6666666666666666,
             "#ed7953"
            ],
            [
             0.7777777777777778,
             "#fb9f3a"
            ],
            [
             0.8888888888888888,
             "#fdca26"
            ],
            [
             1,
             "#f0f921"
            ]
           ],
           "sequentialminus": [
            [
             0,
             "#0d0887"
            ],
            [
             0.1111111111111111,
             "#46039f"
            ],
            [
             0.2222222222222222,
             "#7201a8"
            ],
            [
             0.3333333333333333,
             "#9c179e"
            ],
            [
             0.4444444444444444,
             "#bd3786"
            ],
            [
             0.5555555555555556,
             "#d8576b"
            ],
            [
             0.6666666666666666,
             "#ed7953"
            ],
            [
             0.7777777777777778,
             "#fb9f3a"
            ],
            [
             0.8888888888888888,
             "#fdca26"
            ],
            [
             1,
             "#f0f921"
            ]
           ]
          },
          "colorway": [
           "#636efa",
           "#EF553B",
           "#00cc96",
           "#ab63fa",
           "#FFA15A",
           "#19d3f3",
           "#FF6692",
           "#B6E880",
           "#FF97FF",
           "#FECB52"
          ],
          "font": {
           "color": "#2a3f5f"
          },
          "geo": {
           "bgcolor": "white",
           "lakecolor": "white",
           "landcolor": "#E5ECF6",
           "showlakes": true,
           "showland": true,
           "subunitcolor": "white"
          },
          "hoverlabel": {
           "align": "left"
          },
          "hovermode": "closest",
          "mapbox": {
           "style": "light"
          },
          "paper_bgcolor": "white",
          "plot_bgcolor": "#E5ECF6",
          "polar": {
           "angularaxis": {
            "gridcolor": "white",
            "linecolor": "white",
            "ticks": ""
           },
           "bgcolor": "#E5ECF6",
           "radialaxis": {
            "gridcolor": "white",
            "linecolor": "white",
            "ticks": ""
           }
          },
          "scene": {
           "xaxis": {
            "backgroundcolor": "#E5ECF6",
            "gridcolor": "white",
            "gridwidth": 2,
            "linecolor": "white",
            "showbackground": true,
            "ticks": "",
            "zerolinecolor": "white"
           },
           "yaxis": {
            "backgroundcolor": "#E5ECF6",
            "gridcolor": "white",
            "gridwidth": 2,
            "linecolor": "white",
            "showbackground": true,
            "ticks": "",
            "zerolinecolor": "white"
           },
           "zaxis": {
            "backgroundcolor": "#E5ECF6",
            "gridcolor": "white",
            "gridwidth": 2,
            "linecolor": "white",
            "showbackground": true,
            "ticks": "",
            "zerolinecolor": "white"
           }
          },
          "shapedefaults": {
           "line": {
            "color": "#2a3f5f"
           }
          },
          "ternary": {
           "aaxis": {
            "gridcolor": "white",
            "linecolor": "white",
            "ticks": ""
           },
           "baxis": {
            "gridcolor": "white",
            "linecolor": "white",
            "ticks": ""
           },
           "bgcolor": "#E5ECF6",
           "caxis": {
            "gridcolor": "white",
            "linecolor": "white",
            "ticks": ""
           }
          },
          "title": {
           "x": 0.05
          },
          "xaxis": {
           "automargin": true,
           "gridcolor": "white",
           "linecolor": "white",
           "ticks": "",
           "title": {
            "standoff": 15
           },
           "zerolinecolor": "white",
           "zerolinewidth": 2
          },
          "yaxis": {
           "automargin": true,
           "gridcolor": "white",
           "linecolor": "white",
           "ticks": "",
           "title": {
            "standoff": 15
           },
           "zerolinecolor": "white",
           "zerolinewidth": 2
          }
         }
        },
        "title": {
         "text": "Change in avg. monthly rent for HDB units"
        },
        "xaxis": {
         "anchor": "y",
         "domain": [
          0,
          1
         ],
         "title": {
          "text": "Month"
         }
        },
        "yaxis": {
         "anchor": "x",
         "domain": [
          0,
          1
         ],
         "tickformat": ".1%",
         "title": {
          "text": "Avg. Monthly Rent Change Rate"
         }
        }
       }
      }
     },
     "metadata": {},
     "output_type": "display_data"
    }
   ],
   "source": [
    "# Chart average monthly rent per month\n",
    "fig_avg_rent = px.line(df, x='month', y='monthly_rent', color='flat_type',\n",
    "                       title='Avg. monthly rent for HDB units by Type',\n",
    "                       labels={'month': 'Month', 'monthly_rent': 'Avg. Monthly Rent', 'flat_type': 'Flat Type'},\n",
    "                       hover_data={'month':False})\n",
    "fig_avg_rent.update_layout(yaxis_tickformat='$,.2f', hovermode='x unified')\n",
    "fig_avg_rent.update_traces(hovertemplate='%{y}')\n",
    "fig_avg_rent.show()\n",
    "\n",
    "# Chart change rate for average monthly rent change rate\n",
    "fig_avg_rent_change = px.bar(df, x='month', y='monthly_rent_change', color='flat_type',\n",
    "                             title='Change in avg. monthly rent for HDB units',\n",
    "                             labels={'month': 'Month', 'monthly_rent_change': 'Avg. Monthly Rent Change Rate', 'flat_type': 'Flat Type'},\n",
    "                             hover_data={'month':False})\n",
    "fig_avg_rent_change.update_layout(yaxis_tickformat='.1%', hovermode='x unified')\n",
    "fig_avg_rent_change.update_traces(hovertemplate='%{y}')\n",
    "fig_avg_rent_change.show()"
   ]
  },
  {
   "cell_type": "markdown",
   "metadata": {},
   "source": [
    "Despite a stagnating availability or demand in HDB rental units, prices have soared with most unit types except 1-Room apartments seeing more increases in rental prices month-on-month than a decrease in price. Especially for 3-Room and 4-Room units which saw more increments in monthly rent since 2021.\n",
    "\n",
    "Across the board, all the unit types saw the highest rental price hikes during the mid to late half of 2022 - admidst the Covid pandemic - inverse to the change rate in HDB rental units. This is mostly likely due to the drop in demand or availability during the pandemic leading to most foreign workers and expats (i.e. people most likely to rent units) leaving the country during this period."
   ]
  },
  {
   "cell_type": "code",
   "execution_count": 7,
   "metadata": {},
   "outputs": [
    {
     "data": {
      "application/vnd.plotly.v1+json": {
       "config": {
        "plotlyServerURL": "https://plot.ly"
       },
       "data": [
        {
         "alignmentgroup": "True",
         "hovertemplate": "Flat Type=1-ROOM<br>Year=%{x}<br>Avg. Monthly Rent=%{y}<br>avg_rent_text=%{text}<extra></extra>",
         "legendgroup": "1-ROOM",
         "marker": {
          "color": "#636efa",
          "pattern": {
           "shape": ""
          }
         },
         "name": "1-ROOM",
         "offsetgroup": "1-ROOM",
         "orientation": "v",
         "showlegend": true,
         "text": [
          "$1250.0<br>( - )",
          "$1606.0<br>(28.5%)"
         ],
         "textposition": "auto",
         "type": "bar",
         "x": [
          "2021",
          "2024"
         ],
         "xaxis": "x",
         "y": [
          1250,
          1606.25
         ],
         "yaxis": "y"
        },
        {
         "alignmentgroup": "True",
         "hovertemplate": "Flat Type=2-ROOM<br>Year=%{x}<br>Avg. Monthly Rent=%{y}<br>avg_rent_text=%{text}<extra></extra>",
         "legendgroup": "2-ROOM",
         "marker": {
          "color": "#EF553B",
          "pattern": {
           "shape": ""
          }
         },
         "name": "2-ROOM",
         "offsetgroup": "2-ROOM",
         "orientation": "v",
         "showlegend": true,
         "text": [
          "$1467.0<br>( - )",
          "$2197.0<br>(49.7%)"
         ],
         "textposition": "auto",
         "type": "bar",
         "x": [
          "2021",
          "2024"
         ],
         "xaxis": "x",
         "y": [
          1466.93,
          2196.72
         ],
         "yaxis": "y"
        },
        {
         "alignmentgroup": "True",
         "hovertemplate": "Flat Type=3-ROOM<br>Year=%{x}<br>Avg. Monthly Rent=%{y}<br>avg_rent_text=%{text}<extra></extra>",
         "legendgroup": "3-ROOM",
         "marker": {
          "color": "#00cc96",
          "pattern": {
           "shape": ""
          }
         },
         "name": "3-ROOM",
         "offsetgroup": "3-ROOM",
         "orientation": "v",
         "showlegend": true,
         "text": [
          "$1883.0<br>( - )",
          "$2706.0<br>(43.7%)"
         ],
         "textposition": "auto",
         "type": "bar",
         "x": [
          "2021",
          "2024"
         ],
         "xaxis": "x",
         "y": [
          1882.92,
          2705.76
         ],
         "yaxis": "y"
        },
        {
         "alignmentgroup": "True",
         "hovertemplate": "Flat Type=4-ROOM<br>Year=%{x}<br>Avg. Monthly Rent=%{y}<br>avg_rent_text=%{text}<extra></extra>",
         "legendgroup": "4-ROOM",
         "marker": {
          "color": "#ab63fa",
          "pattern": {
           "shape": ""
          }
         },
         "name": "4-ROOM",
         "offsetgroup": "4-ROOM",
         "orientation": "v",
         "showlegend": true,
         "text": [
          "$2197.0<br>( - )",
          "$3254.0<br>(48.1%)"
         ],
         "textposition": "auto",
         "type": "bar",
         "x": [
          "2021",
          "2024"
         ],
         "xaxis": "x",
         "y": [
          2197.36,
          3254.13
         ],
         "yaxis": "y"
        },
        {
         "alignmentgroup": "True",
         "hovertemplate": "Flat Type=5-ROOM<br>Year=%{x}<br>Avg. Monthly Rent=%{y}<br>avg_rent_text=%{text}<extra></extra>",
         "legendgroup": "5-ROOM",
         "marker": {
          "color": "#FFA15A",
          "pattern": {
           "shape": ""
          }
         },
         "name": "5-ROOM",
         "offsetgroup": "5-ROOM",
         "orientation": "v",
         "showlegend": true,
         "text": [
          "$2301.0<br>( - )",
          "$3455.0<br>(50.1%)"
         ],
         "textposition": "auto",
         "type": "bar",
         "x": [
          "2021",
          "2024"
         ],
         "xaxis": "x",
         "y": [
          2301.22,
          3454.84
         ],
         "yaxis": "y"
        },
        {
         "alignmentgroup": "True",
         "hovertemplate": "Flat Type=EXECUTIVE<br>Year=%{x}<br>Avg. Monthly Rent=%{y}<br>avg_rent_text=%{text}<extra></extra>",
         "legendgroup": "EXECUTIVE",
         "marker": {
          "color": "#19d3f3",
          "pattern": {
           "shape": ""
          }
         },
         "name": "EXECUTIVE",
         "offsetgroup": "EXECUTIVE",
         "orientation": "v",
         "showlegend": true,
         "text": [
          "$2367.0<br>( - )",
          "$3612.0<br>(52.6%)"
         ],
         "textposition": "auto",
         "type": "bar",
         "x": [
          "2021",
          "2024"
         ],
         "xaxis": "x",
         "y": [
          2367.31,
          3612.1
         ],
         "yaxis": "y"
        }
       ],
       "layout": {
        "barmode": "group",
        "hovermode": false,
        "legend": {
         "title": {
          "text": "Flat Type"
         },
         "tracegroupgap": 0
        },
        "template": {
         "data": {
          "bar": [
           {
            "error_x": {
             "color": "#2a3f5f"
            },
            "error_y": {
             "color": "#2a3f5f"
            },
            "marker": {
             "line": {
              "color": "#E5ECF6",
              "width": 0.5
             },
             "pattern": {
              "fillmode": "overlay",
              "size": 10,
              "solidity": 0.2
             }
            },
            "type": "bar"
           }
          ],
          "barpolar": [
           {
            "marker": {
             "line": {
              "color": "#E5ECF6",
              "width": 0.5
             },
             "pattern": {
              "fillmode": "overlay",
              "size": 10,
              "solidity": 0.2
             }
            },
            "type": "barpolar"
           }
          ],
          "carpet": [
           {
            "aaxis": {
             "endlinecolor": "#2a3f5f",
             "gridcolor": "white",
             "linecolor": "white",
             "minorgridcolor": "white",
             "startlinecolor": "#2a3f5f"
            },
            "baxis": {
             "endlinecolor": "#2a3f5f",
             "gridcolor": "white",
             "linecolor": "white",
             "minorgridcolor": "white",
             "startlinecolor": "#2a3f5f"
            },
            "type": "carpet"
           }
          ],
          "choropleth": [
           {
            "colorbar": {
             "outlinewidth": 0,
             "ticks": ""
            },
            "type": "choropleth"
           }
          ],
          "contour": [
           {
            "colorbar": {
             "outlinewidth": 0,
             "ticks": ""
            },
            "colorscale": [
             [
              0,
              "#0d0887"
             ],
             [
              0.1111111111111111,
              "#46039f"
             ],
             [
              0.2222222222222222,
              "#7201a8"
             ],
             [
              0.3333333333333333,
              "#9c179e"
             ],
             [
              0.4444444444444444,
              "#bd3786"
             ],
             [
              0.5555555555555556,
              "#d8576b"
             ],
             [
              0.6666666666666666,
              "#ed7953"
             ],
             [
              0.7777777777777778,
              "#fb9f3a"
             ],
             [
              0.8888888888888888,
              "#fdca26"
             ],
             [
              1,
              "#f0f921"
             ]
            ],
            "type": "contour"
           }
          ],
          "contourcarpet": [
           {
            "colorbar": {
             "outlinewidth": 0,
             "ticks": ""
            },
            "type": "contourcarpet"
           }
          ],
          "heatmap": [
           {
            "colorbar": {
             "outlinewidth": 0,
             "ticks": ""
            },
            "colorscale": [
             [
              0,
              "#0d0887"
             ],
             [
              0.1111111111111111,
              "#46039f"
             ],
             [
              0.2222222222222222,
              "#7201a8"
             ],
             [
              0.3333333333333333,
              "#9c179e"
             ],
             [
              0.4444444444444444,
              "#bd3786"
             ],
             [
              0.5555555555555556,
              "#d8576b"
             ],
             [
              0.6666666666666666,
              "#ed7953"
             ],
             [
              0.7777777777777778,
              "#fb9f3a"
             ],
             [
              0.8888888888888888,
              "#fdca26"
             ],
             [
              1,
              "#f0f921"
             ]
            ],
            "type": "heatmap"
           }
          ],
          "heatmapgl": [
           {
            "colorbar": {
             "outlinewidth": 0,
             "ticks": ""
            },
            "colorscale": [
             [
              0,
              "#0d0887"
             ],
             [
              0.1111111111111111,
              "#46039f"
             ],
             [
              0.2222222222222222,
              "#7201a8"
             ],
             [
              0.3333333333333333,
              "#9c179e"
             ],
             [
              0.4444444444444444,
              "#bd3786"
             ],
             [
              0.5555555555555556,
              "#d8576b"
             ],
             [
              0.6666666666666666,
              "#ed7953"
             ],
             [
              0.7777777777777778,
              "#fb9f3a"
             ],
             [
              0.8888888888888888,
              "#fdca26"
             ],
             [
              1,
              "#f0f921"
             ]
            ],
            "type": "heatmapgl"
           }
          ],
          "histogram": [
           {
            "marker": {
             "pattern": {
              "fillmode": "overlay",
              "size": 10,
              "solidity": 0.2
             }
            },
            "type": "histogram"
           }
          ],
          "histogram2d": [
           {
            "colorbar": {
             "outlinewidth": 0,
             "ticks": ""
            },
            "colorscale": [
             [
              0,
              "#0d0887"
             ],
             [
              0.1111111111111111,
              "#46039f"
             ],
             [
              0.2222222222222222,
              "#7201a8"
             ],
             [
              0.3333333333333333,
              "#9c179e"
             ],
             [
              0.4444444444444444,
              "#bd3786"
             ],
             [
              0.5555555555555556,
              "#d8576b"
             ],
             [
              0.6666666666666666,
              "#ed7953"
             ],
             [
              0.7777777777777778,
              "#fb9f3a"
             ],
             [
              0.8888888888888888,
              "#fdca26"
             ],
             [
              1,
              "#f0f921"
             ]
            ],
            "type": "histogram2d"
           }
          ],
          "histogram2dcontour": [
           {
            "colorbar": {
             "outlinewidth": 0,
             "ticks": ""
            },
            "colorscale": [
             [
              0,
              "#0d0887"
             ],
             [
              0.1111111111111111,
              "#46039f"
             ],
             [
              0.2222222222222222,
              "#7201a8"
             ],
             [
              0.3333333333333333,
              "#9c179e"
             ],
             [
              0.4444444444444444,
              "#bd3786"
             ],
             [
              0.5555555555555556,
              "#d8576b"
             ],
             [
              0.6666666666666666,
              "#ed7953"
             ],
             [
              0.7777777777777778,
              "#fb9f3a"
             ],
             [
              0.8888888888888888,
              "#fdca26"
             ],
             [
              1,
              "#f0f921"
             ]
            ],
            "type": "histogram2dcontour"
           }
          ],
          "mesh3d": [
           {
            "colorbar": {
             "outlinewidth": 0,
             "ticks": ""
            },
            "type": "mesh3d"
           }
          ],
          "parcoords": [
           {
            "line": {
             "colorbar": {
              "outlinewidth": 0,
              "ticks": ""
             }
            },
            "type": "parcoords"
           }
          ],
          "pie": [
           {
            "automargin": true,
            "type": "pie"
           }
          ],
          "scatter": [
           {
            "fillpattern": {
             "fillmode": "overlay",
             "size": 10,
             "solidity": 0.2
            },
            "type": "scatter"
           }
          ],
          "scatter3d": [
           {
            "line": {
             "colorbar": {
              "outlinewidth": 0,
              "ticks": ""
             }
            },
            "marker": {
             "colorbar": {
              "outlinewidth": 0,
              "ticks": ""
             }
            },
            "type": "scatter3d"
           }
          ],
          "scattercarpet": [
           {
            "marker": {
             "colorbar": {
              "outlinewidth": 0,
              "ticks": ""
             }
            },
            "type": "scattercarpet"
           }
          ],
          "scattergeo": [
           {
            "marker": {
             "colorbar": {
              "outlinewidth": 0,
              "ticks": ""
             }
            },
            "type": "scattergeo"
           }
          ],
          "scattergl": [
           {
            "marker": {
             "colorbar": {
              "outlinewidth": 0,
              "ticks": ""
             }
            },
            "type": "scattergl"
           }
          ],
          "scattermapbox": [
           {
            "marker": {
             "colorbar": {
              "outlinewidth": 0,
              "ticks": ""
             }
            },
            "type": "scattermapbox"
           }
          ],
          "scatterpolar": [
           {
            "marker": {
             "colorbar": {
              "outlinewidth": 0,
              "ticks": ""
             }
            },
            "type": "scatterpolar"
           }
          ],
          "scatterpolargl": [
           {
            "marker": {
             "colorbar": {
              "outlinewidth": 0,
              "ticks": ""
             }
            },
            "type": "scatterpolargl"
           }
          ],
          "scatterternary": [
           {
            "marker": {
             "colorbar": {
              "outlinewidth": 0,
              "ticks": ""
             }
            },
            "type": "scatterternary"
           }
          ],
          "surface": [
           {
            "colorbar": {
             "outlinewidth": 0,
             "ticks": ""
            },
            "colorscale": [
             [
              0,
              "#0d0887"
             ],
             [
              0.1111111111111111,
              "#46039f"
             ],
             [
              0.2222222222222222,
              "#7201a8"
             ],
             [
              0.3333333333333333,
              "#9c179e"
             ],
             [
              0.4444444444444444,
              "#bd3786"
             ],
             [
              0.5555555555555556,
              "#d8576b"
             ],
             [
              0.6666666666666666,
              "#ed7953"
             ],
             [
              0.7777777777777778,
              "#fb9f3a"
             ],
             [
              0.8888888888888888,
              "#fdca26"
             ],
             [
              1,
              "#f0f921"
             ]
            ],
            "type": "surface"
           }
          ],
          "table": [
           {
            "cells": {
             "fill": {
              "color": "#EBF0F8"
             },
             "line": {
              "color": "white"
             }
            },
            "header": {
             "fill": {
              "color": "#C8D4E3"
             },
             "line": {
              "color": "white"
             }
            },
            "type": "table"
           }
          ]
         },
         "layout": {
          "annotationdefaults": {
           "arrowcolor": "#2a3f5f",
           "arrowhead": 0,
           "arrowwidth": 1
          },
          "autotypenumbers": "strict",
          "coloraxis": {
           "colorbar": {
            "outlinewidth": 0,
            "ticks": ""
           }
          },
          "colorscale": {
           "diverging": [
            [
             0,
             "#8e0152"
            ],
            [
             0.1,
             "#c51b7d"
            ],
            [
             0.2,
             "#de77ae"
            ],
            [
             0.3,
             "#f1b6da"
            ],
            [
             0.4,
             "#fde0ef"
            ],
            [
             0.5,
             "#f7f7f7"
            ],
            [
             0.6,
             "#e6f5d0"
            ],
            [
             0.7,
             "#b8e186"
            ],
            [
             0.8,
             "#7fbc41"
            ],
            [
             0.9,
             "#4d9221"
            ],
            [
             1,
             "#276419"
            ]
           ],
           "sequential": [
            [
             0,
             "#0d0887"
            ],
            [
             0.1111111111111111,
             "#46039f"
            ],
            [
             0.2222222222222222,
             "#7201a8"
            ],
            [
             0.3333333333333333,
             "#9c179e"
            ],
            [
             0.4444444444444444,
             "#bd3786"
            ],
            [
             0.5555555555555556,
             "#d8576b"
            ],
            [
             0.6666666666666666,
             "#ed7953"
            ],
            [
             0.7777777777777778,
             "#fb9f3a"
            ],
            [
             0.8888888888888888,
             "#fdca26"
            ],
            [
             1,
             "#f0f921"
            ]
           ],
           "sequentialminus": [
            [
             0,
             "#0d0887"
            ],
            [
             0.1111111111111111,
             "#46039f"
            ],
            [
             0.2222222222222222,
             "#7201a8"
            ],
            [
             0.3333333333333333,
             "#9c179e"
            ],
            [
             0.4444444444444444,
             "#bd3786"
            ],
            [
             0.5555555555555556,
             "#d8576b"
            ],
            [
             0.6666666666666666,
             "#ed7953"
            ],
            [
             0.7777777777777778,
             "#fb9f3a"
            ],
            [
             0.8888888888888888,
             "#fdca26"
            ],
            [
             1,
             "#f0f921"
            ]
           ]
          },
          "colorway": [
           "#636efa",
           "#EF553B",
           "#00cc96",
           "#ab63fa",
           "#FFA15A",
           "#19d3f3",
           "#FF6692",
           "#B6E880",
           "#FF97FF",
           "#FECB52"
          ],
          "font": {
           "color": "#2a3f5f"
          },
          "geo": {
           "bgcolor": "white",
           "lakecolor": "white",
           "landcolor": "#E5ECF6",
           "showlakes": true,
           "showland": true,
           "subunitcolor": "white"
          },
          "hoverlabel": {
           "align": "left"
          },
          "hovermode": "closest",
          "mapbox": {
           "style": "light"
          },
          "paper_bgcolor": "white",
          "plot_bgcolor": "#E5ECF6",
          "polar": {
           "angularaxis": {
            "gridcolor": "white",
            "linecolor": "white",
            "ticks": ""
           },
           "bgcolor": "#E5ECF6",
           "radialaxis": {
            "gridcolor": "white",
            "linecolor": "white",
            "ticks": ""
           }
          },
          "scene": {
           "xaxis": {
            "backgroundcolor": "#E5ECF6",
            "gridcolor": "white",
            "gridwidth": 2,
            "linecolor": "white",
            "showbackground": true,
            "ticks": "",
            "zerolinecolor": "white"
           },
           "yaxis": {
            "backgroundcolor": "#E5ECF6",
            "gridcolor": "white",
            "gridwidth": 2,
            "linecolor": "white",
            "showbackground": true,
            "ticks": "",
            "zerolinecolor": "white"
           },
           "zaxis": {
            "backgroundcolor": "#E5ECF6",
            "gridcolor": "white",
            "gridwidth": 2,
            "linecolor": "white",
            "showbackground": true,
            "ticks": "",
            "zerolinecolor": "white"
           }
          },
          "shapedefaults": {
           "line": {
            "color": "#2a3f5f"
           }
          },
          "ternary": {
           "aaxis": {
            "gridcolor": "white",
            "linecolor": "white",
            "ticks": ""
           },
           "baxis": {
            "gridcolor": "white",
            "linecolor": "white",
            "ticks": ""
           },
           "bgcolor": "#E5ECF6",
           "caxis": {
            "gridcolor": "white",
            "linecolor": "white",
            "ticks": ""
           }
          },
          "title": {
           "x": 0.05
          },
          "xaxis": {
           "automargin": true,
           "gridcolor": "white",
           "linecolor": "white",
           "ticks": "",
           "title": {
            "standoff": 15
           },
           "zerolinecolor": "white",
           "zerolinewidth": 2
          },
          "yaxis": {
           "automargin": true,
           "gridcolor": "white",
           "linecolor": "white",
           "ticks": "",
           "title": {
            "standoff": 15
           },
           "zerolinecolor": "white",
           "zerolinewidth": 2
          }
         }
        },
        "title": {
         "text": "Avg. monthly rent per year"
        },
        "xaxis": {
         "anchor": "y",
         "domain": [
          0,
          1
         ],
         "title": {
          "text": "Year"
         }
        },
        "yaxis": {
         "anchor": "x",
         "domain": [
          0,
          1
         ],
         "tickformat": "$,.2f",
         "title": {
          "text": "Avg. Monthly Rent"
         }
        }
       }
      }
     },
     "metadata": {},
     "output_type": "display_data"
    }
   ],
   "source": [
    "# Extract data for average monthly rent prices by flat-type for earliest and latest year comparison\n",
    "conn = sqlite3.connect('rental.sqlite')\n",
    "df = pd.read_sql_query('''\n",
    "\t\t\t\t\t\tSELECT *,\n",
    "\t\t\t\t\t\t\tCASE\n",
    "\t\t\t\t\t\t\t\tWHEN avg_rent_change IS NULL THEN ('$' || ROUND(avg_rent,0) || '<br>( - )')\n",
    "\t\t\t\t\t\t\t\tELSE ('$' || ROUND(avg_rent,0) || '<br>(' || avg_rent_change || '%)') \n",
    "\t\t\t\t\t\t\tEND AS avg_rent_text\n",
    "\t\t\t\t\t\tFROM (\n",
    "\t\t\t\t\t\t\tSELECT *,\n",
    "\t\t\t\t\t\t\t\tROUND(((avg_rent/prev_avg_rent)-1)*100,1) AS avg_rent_change\n",
    "\t\t\t\t\t\t\tFROM (\n",
    "\t\t\t\t\t\t\t\tSELECT *,\n",
    "\t\t\t\t\t\t\t\t\tCAST(LAG(avg_rent) OVER (PARTITION BY flat_type ORDER BY year) AS FLOAT) AS prev_avg_rent\n",
    "\t\t\t\t\t\t\t\tFROM (\n",
    "\t\t\t\t\t\t\t\t\tSELECT\n",
    "\t\t\t\t\t\t\t\t\t\tflat_type,\n",
    "\t\t\t\t\t\t\t\t\t\tyear,\n",
    "\t\t\t\t\t\t\t\t\t\tROUND(AVG(monthly_rent),2) AS avg_rent\n",
    "\t\t\t\t\t\t\t\t\tFROM (\n",
    "\t\t\t\t\t\t\t\t\t\tSELECT\n",
    "\t\t\t\t\t\t\t\t\t\t\tflat_type,\n",
    "\t\t\t\t\t\t\t\t\t\t\tSTRFTIME('%Y', DATE((rent_approval_date || '-01'))) AS year,\n",
    "\t\t\t\t\t\t\t\t\t\t\tDATE((rent_approval_date || '-01')) AS month,\n",
    "\t\t\t\t\t\t\t\t\t\t\tAVG(monthly_rent) AS monthly_rent\n",
    "\t\t\t\t\t\t\t\t\t\tFROM rental\n",
    "\t\t\t\t\t\t\t\t\t\tGROUP BY 1,2,3\n",
    "\t\t\t\t\t\t\t\t\t)\n",
    "\t\t\t\t\t\t\t\t\tWHERE year IN ('2021','2024')\n",
    "\t\t\t\t\t\t\t\t\tGROUP BY 1,2\n",
    "\t\t\t\t\t\t\t\t)\n",
    "\t\t\t\t\t\t\t)\n",
    "\t\t\t\t\t\t)\n",
    "                  \t\t''', conn)\n",
    "\n",
    "fig_yearly_rent = px.bar(df, x='year', y='avg_rent', color='flat_type', barmode='group', text='avg_rent_text',\n",
    "                         title='Avg. monthly rent per year',\n",
    "                         labels={'year': 'Year', 'avg_rent': 'Avg. Monthly Rent', 'flat_type': 'Flat Type'})\n",
    "fig_yearly_rent.update_layout(yaxis_tickformat='$,.2f', hovermode=False)\n",
    "fig_yearly_rent.show()"
   ]
  },
  {
   "cell_type": "markdown",
   "metadata": {},
   "source": [
    "Comparing the dataset from the earliest records in 2021 and the latest records in 2024, we can see how monthly rental prices have spiked, with almost all unit types (except for 1-Room units) seeing a 40%~50% increase in prices."
   ]
  }
 ],
 "metadata": {
  "kernelspec": {
   "display_name": "Python 3",
   "language": "python",
   "name": "python3"
  },
  "language_info": {
   "codemirror_mode": {
    "name": "ipython",
    "version": 3
   },
   "file_extension": ".py",
   "mimetype": "text/x-python",
   "name": "python",
   "nbconvert_exporter": "python",
   "pygments_lexer": "ipython3",
   "version": "3.12.5"
  }
 },
 "nbformat": 4,
 "nbformat_minor": 2
}
